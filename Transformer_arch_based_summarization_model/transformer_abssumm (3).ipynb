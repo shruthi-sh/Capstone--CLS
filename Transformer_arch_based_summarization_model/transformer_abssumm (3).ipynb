{
  "nbformat": 4,
  "nbformat_minor": 0,
  "metadata": {
    "accelerator": "GPU",
    "colab": {
      "name": "transformer_abssumm.ipynb",
      "provenance": [],
      "collapsed_sections": []
    },
    "kernelspec": {
      "display_name": "Python 3",
      "name": "python3"
    },
    "language_info": {
      "name": "python"
    }
  },
  "cells": [
    {
      "cell_type": "code",
      "metadata": {
        "id": "-pwBQjxIZegP"
      },
      "source": [
        ""
      ],
      "execution_count": null,
      "outputs": []
    },
    {
      "cell_type": "markdown",
      "metadata": {
        "id": "aF8pNSrk7Dnu"
      },
      "source": [
        "Preprocessing"
      ]
    },
    {
      "cell_type": "code",
      "metadata": {
        "colab": {
          "base_uri": "https://localhost:8080/"
        },
        "id": "yisTyi4E-UYO",
        "outputId": "dd01018e-6d2f-43af-b520-541094f32318"
      },
      "source": [
        "from google.colab import drive\n",
        "drive.mount('/content/drive')"
      ],
      "execution_count": null,
      "outputs": [
        {
          "output_type": "stream",
          "name": "stdout",
          "text": [
            "Mounted at /content/drive\n"
          ]
        }
      ]
    },
    {
      "cell_type": "code",
      "metadata": {
        "id": "sRDfRx9E-jXf"
      },
      "source": [
        "import pandas as pd\n",
        "df=pd.read_csv('/content/drive/My Drive/training_final.csv')"
      ],
      "execution_count": null,
      "outputs": []
    },
    {
      "cell_type": "code",
      "metadata": {
        "colab": {
          "base_uri": "https://localhost:8080/",
          "height": 293
        },
        "id": "vLcU8Fjn-xmj",
        "outputId": "d8636e15-5b0b-45ea-ec1d-64fbccd0fa13"
      },
      "source": [
        "df.head()"
      ],
      "execution_count": null,
      "outputs": [
        {
          "output_type": "execute_result",
          "data": {
            "text/html": [
              "<div>\n",
              "<style scoped>\n",
              "    .dataframe tbody tr th:only-of-type {\n",
              "        vertical-align: middle;\n",
              "    }\n",
              "\n",
              "    .dataframe tbody tr th {\n",
              "        vertical-align: top;\n",
              "    }\n",
              "\n",
              "    .dataframe thead th {\n",
              "        text-align: right;\n",
              "    }\n",
              "</style>\n",
              "<table border=\"1\" class=\"dataframe\">\n",
              "  <thead>\n",
              "    <tr style=\"text-align: right;\">\n",
              "      <th></th>\n",
              "      <th>Unnamed: 0</th>\n",
              "      <th>Document</th>\n",
              "      <th>Summary</th>\n",
              "      <th>Kannada_summary</th>\n",
              "    </tr>\n",
              "  </thead>\n",
              "  <tbody>\n",
              "    <tr>\n",
              "      <th>0</th>\n",
              "      <td>0</td>\n",
              "      <td>It's official: U.S. President Barack Obama wan...</td>\n",
              "      <td>Syrian official: Obama climbed to the top of t...</td>\n",
              "      <td>ಸಿರಿಯನ್ ಅಧಿಕಾರಿ: ಒಬಾಮಾ ಮರದ ಮೇಲಕ್ಕೆ ಏರಿದರು, \"ಹೇ...</td>\n",
              "    </tr>\n",
              "    <tr>\n",
              "      <th>1</th>\n",
              "      <td>1</td>\n",
              "      <td>(CNN) -- Usain Bolt rounded off the world cham...</td>\n",
              "      <td>Usain Bolt wins third gold of world championsh...</td>\n",
              "      <td>ಉಸೇನ್ ಬೋಲ್ಟ್ ವಿಶ್ವ ಚಾಂಪಿಯನ್‌ಶಿಪ್‌ನ ಮೂರನೇ ಚಿನ್ನ...</td>\n",
              "    </tr>\n",
              "    <tr>\n",
              "      <th>2</th>\n",
              "      <td>2</td>\n",
              "      <td>Kansas City, Missouri (CNN) -- The General Ser...</td>\n",
              "      <td>The employee in agency's Kansas City office is...</td>\n",
              "      <td>ಏಜೆನ್ಸಿಯ ಕಾನ್ಸಾಸ್ ಸಿಟಿ ಕಚೇರಿಯಲ್ಲಿ ಉದ್ಯೋಗಿ ನೂರಾ...</td>\n",
              "    </tr>\n",
              "    <tr>\n",
              "      <th>3</th>\n",
              "      <td>3</td>\n",
              "      <td>Los Angeles (CNN) -- A medical doctor in Vanco...</td>\n",
              "      <td>NEW: A Canadian doctor says she was part of a ...</td>\n",
              "      <td>ಹೊಸ: ಕೆನಡಾದ ವೈದ್ಯರೊಬ್ಬರು 2010 ರಲ್ಲಿ ಹ್ಯಾರಿ ಬುರ...</td>\n",
              "    </tr>\n",
              "    <tr>\n",
              "      <th>4</th>\n",
              "      <td>4</td>\n",
              "      <td>(CNN) -- Police arrested another teen Thursday...</td>\n",
              "      <td>Another arrest made in gang rape outside Calif...</td>\n",
              "      <td>ಕ್ಯಾಲಿಫೋರ್ನಿಯಾ ಶಾಲೆಯ ಹೊರಗೆ ಸಾಮೂಹಿಕ ಅತ್ಯಾಚಾರದಲ್...</td>\n",
              "    </tr>\n",
              "  </tbody>\n",
              "</table>\n",
              "</div>"
            ],
            "text/plain": [
              "   Unnamed: 0  ...                                    Kannada_summary\n",
              "0           0  ...  ಸಿರಿಯನ್ ಅಧಿಕಾರಿ: ಒಬಾಮಾ ಮರದ ಮೇಲಕ್ಕೆ ಏರಿದರು, \"ಹೇ...\n",
              "1           1  ...  ಉಸೇನ್ ಬೋಲ್ಟ್ ವಿಶ್ವ ಚಾಂಪಿಯನ್‌ಶಿಪ್‌ನ ಮೂರನೇ ಚಿನ್ನ...\n",
              "2           2  ...  ಏಜೆನ್ಸಿಯ ಕಾನ್ಸಾಸ್ ಸಿಟಿ ಕಚೇರಿಯಲ್ಲಿ ಉದ್ಯೋಗಿ ನೂರಾ...\n",
              "3           3  ...  ಹೊಸ: ಕೆನಡಾದ ವೈದ್ಯರೊಬ್ಬರು 2010 ರಲ್ಲಿ ಹ್ಯಾರಿ ಬುರ...\n",
              "4           4  ...  ಕ್ಯಾಲಿಫೋರ್ನಿಯಾ ಶಾಲೆಯ ಹೊರಗೆ ಸಾಮೂಹಿಕ ಅತ್ಯಾಚಾರದಲ್...\n",
              "\n",
              "[5 rows x 4 columns]"
            ]
          },
          "metadata": {},
          "execution_count": 3
        }
      ]
    },
    {
      "cell_type": "code",
      "metadata": {
        "id": "f-Ugosi9A20g"
      },
      "source": [
        "import numpy as np  \n",
        "import pandas as pd \n",
        "import re           \n",
        "from keras.preprocessing.text import Tokenizer \n",
        "from keras.preprocessing.sequence import pad_sequences\n",
        "from nltk.corpus import stopwords   "
      ],
      "execution_count": null,
      "outputs": []
    },
    {
      "cell_type": "code",
      "metadata": {
        "colab": {
          "base_uri": "https://localhost:8080/"
        },
        "id": "ncdU8BNAA2xF",
        "outputId": "ec5a47eb-a3d0-4d2e-ceec-3f132e7c08d5"
      },
      "source": [
        "import nltk\n",
        "nltk.download('stopwords')"
      ],
      "execution_count": null,
      "outputs": [
        {
          "output_type": "stream",
          "name": "stdout",
          "text": [
            "[nltk_data] Downloading package stopwords to /root/nltk_data...\n",
            "[nltk_data]   Unzipping corpora/stopwords.zip.\n"
          ]
        },
        {
          "output_type": "execute_result",
          "data": {
            "text/plain": [
              "True"
            ]
          },
          "metadata": {},
          "execution_count": 5
        }
      ]
    },
    {
      "cell_type": "code",
      "metadata": {
        "id": "TvRIH0bFA2us"
      },
      "source": [
        "data=pd.read_csv(\"/content/drive/My Drive/training_final_1.csv\")\n",
        "data1=pd.read_csv(\"/content/drive/My Drive/test_final.csv\")\n",
        "data2=pd.read_csv(\"/content/drive/My Drive/validation_final.csv\")"
      ],
      "execution_count": null,
      "outputs": []
    },
    {
      "cell_type": "code",
      "metadata": {
        "id": "58wUX4OuA2sP"
      },
      "source": [
        "contraction_mapping = {\"ain't\": \"is not\", \"aren't\": \"are not\",\"can't\": \"cannot\", \"'cause\": \"because\", \"could've\": \"could have\", \"couldn't\": \"could not\",\n",
        "\n",
        "                           \"didn't\": \"did not\", \"doesn't\": \"does not\", \"don't\": \"do not\", \"hadn't\": \"had not\", \"hasn't\": \"has not\", \"haven't\": \"have not\",\n",
        "\n",
        "                           \"he'd\": \"he would\",\"he'll\": \"he will\", \"he's\": \"he is\", \"how'd\": \"how did\", \"how'd'y\": \"how do you\", \"how'll\": \"how will\", \"how's\": \"how is\",\n",
        "\n",
        "                           \"I'd\": \"I would\", \"I'd've\": \"I would have\", \"I'll\": \"I will\", \"I'll've\": \"I will have\",\"I'm\": \"I am\", \"I've\": \"I have\", \"i'd\": \"i would\",\n",
        "\n",
        "                           \"i'd've\": \"i would have\", \"i'll\": \"i will\",  \"i'll've\": \"i will have\",\"i'm\": \"i am\", \"i've\": \"i have\", \"isn't\": \"is not\", \"it'd\": \"it would\",\n",
        "\n",
        "                           \"it'd've\": \"it would have\", \"it'll\": \"it will\", \"it'll've\": \"it will have\",\"it's\": \"it is\", \"let's\": \"let us\", \"ma'am\": \"madam\",\n",
        "\n",
        "                           \"mayn't\": \"may not\", \"might've\": \"might have\",\"mightn't\": \"might not\",\"mightn't've\": \"might not have\", \"must've\": \"must have\",\n",
        "\n",
        "                           \"mustn't\": \"must not\", \"mustn't've\": \"must not have\", \"needn't\": \"need not\", \"needn't've\": \"need not have\",\"o'clock\": \"of the clock\",\n",
        "\n",
        "                           \"oughtn't\": \"ought not\", \"oughtn't've\": \"ought not have\", \"shan't\": \"shall not\", \"sha'n't\": \"shall not\", \"shan't've\": \"shall not have\",\n",
        "\n",
        "                           \"she'd\": \"she would\", \"she'd've\": \"she would have\", \"she'll\": \"she will\", \"she'll've\": \"she will have\", \"she's\": \"she is\",\n",
        "\n",
        "                           \"should've\": \"should have\", \"shouldn't\": \"should not\", \"shouldn't've\": \"should not have\", \"so've\": \"so have\",\"so's\": \"so as\",\n",
        "\n",
        "                           \"this's\": \"this is\",\"that'd\": \"that would\", \"that'd've\": \"that would have\", \"that's\": \"that is\", \"there'd\": \"there would\",\n",
        "\n",
        "                           \"there'd've\": \"there would have\", \"there's\": \"there is\", \"here's\": \"here is\",\"they'd\": \"they would\", \"they'd've\": \"they would have\",\n",
        "\n",
        "                           \"they'll\": \"they will\", \"they'll've\": \"they will have\", \"they're\": \"they are\", \"they've\": \"they have\", \"to've\": \"to have\",\n",
        "\n",
        "                           \"wasn't\": \"was not\", \"we'd\": \"we would\", \"we'd've\": \"we would have\", \"we'll\": \"we will\", \"we'll've\": \"we will have\", \"we're\": \"we are\",\n",
        "\n",
        "                           \"we've\": \"we have\", \"weren't\": \"were not\", \"what'll\": \"what will\", \"what'll've\": \"what will have\", \"what're\": \"what are\",\n",
        "\n",
        "                           \"what's\": \"what is\", \"what've\": \"what have\", \"when's\": \"when is\", \"when've\": \"when have\", \"where'd\": \"where did\", \"where's\": \"where is\",\n",
        "\n",
        "                           \"where've\": \"where have\", \"who'll\": \"who will\", \"who'll've\": \"who will have\", \"who's\": \"who is\", \"who've\": \"who have\",\n",
        "\n",
        "                           \"why's\": \"why is\", \"why've\": \"why have\", \"will've\": \"will have\", \"won't\": \"will not\", \"won't've\": \"will not have\",\n",
        "\n",
        "                           \"would've\": \"would have\", \"wouldn't\": \"would not\", \"wouldn't've\": \"would not have\", \"y'all\": \"you all\",\n",
        "\n",
        "                           \"y'all'd\": \"you all would\",\"y'all'd've\": \"you all would have\",\"y'all're\": \"you all are\",\"y'all've\": \"you all have\",\n",
        "\n",
        "                           \"you'd\": \"you would\", \"you'd've\": \"you would have\", \"you'll\": \"you will\", \"you'll've\": \"you will have\",\n",
        "\n",
        "                           \"you're\": \"you are\", \"you've\": \"you have\"}"
      ],
      "execution_count": null,
      "outputs": []
    },
    {
      "cell_type": "code",
      "metadata": {
        "colab": {
          "base_uri": "https://localhost:8080/"
        },
        "id": "KFUAXNabA2od",
        "outputId": "68a4042d-a7eb-4303-d209-070bb6de4bc9"
      },
      "source": [
        "#training\n",
        "print(data['Document'][:5])\n",
        "print(data['Summary'][:5])\n",
        "print(data['Kannada_summary'][:5])\n"
      ],
      "execution_count": null,
      "outputs": [
        {
          "output_type": "stream",
          "name": "stdout",
          "text": [
            "0    It's official: U.S. President Barack Obama wan...\n",
            "1    (CNN) -- Usain Bolt rounded off the world cham...\n",
            "2    Kansas City, Missouri (CNN) -- The General Ser...\n",
            "3    Los Angeles (CNN) -- A medical doctor in Vanco...\n",
            "4    (CNN) -- Police arrested another teen Thursday...\n",
            "Name: Document, dtype: object\n",
            "0    Syrian official: Obama climbed to the top of t...\n",
            "1    Usain Bolt wins third gold of world championsh...\n",
            "2    The employee in agency's Kansas City office is...\n",
            "3    NEW: A Canadian doctor says she was part of a ...\n",
            "4    Another arrest made in gang rape outside Calif...\n",
            "Name: Summary, dtype: object\n",
            "0    ಸಿರಿಯನ್ ಅಧಿಕಾರಿ: ಒಬಾಮಾ ಮರದ ಮೇಲಕ್ಕೆ ಏರಿದರು, \"ಹೇ...\n",
            "1    ಉಸೇನ್ ಬೋಲ್ಟ್ ವಿಶ್ವ ಚಾಂಪಿಯನ್‌ಶಿಪ್‌ನ ಮೂರನೇ ಚಿನ್ನ...\n",
            "2    ಏಜೆನ್ಸಿಯ ಕಾನ್ಸಾಸ್ ಸಿಟಿ ಕಚೇರಿಯಲ್ಲಿ ಉದ್ಯೋಗಿ ನೂರಾ...\n",
            "3    ಹೊಸ: ಕೆನಡಾದ ವೈದ್ಯರೊಬ್ಬರು 2010 ರಲ್ಲಿ ಹ್ಯಾರಿ ಬುರ...\n",
            "4    ಕ್ಯಾಲಿಫೋರ್ನಿಯಾ ಶಾಲೆಯ ಹೊರಗೆ ಸಾಮೂಹಿಕ ಅತ್ಯಾಚಾರದಲ್...\n",
            "Name: Kannada_summary, dtype: object\n"
          ]
        }
      ]
    },
    {
      "cell_type": "code",
      "metadata": {
        "id": "6iPQS2sLA2mc"
      },
      "source": [
        "data.dropna(axis=0,inplace=True)\n",
        "data.dropna(axis=0,inplace=True)\n",
        "data1.dropna(axis=0,inplace=True)\n",
        "data1.dropna(axis=0,inplace=True)\n",
        "data2.dropna(axis=0,inplace=True)\n",
        "data2.dropna(axis=0,inplace=True)"
      ],
      "execution_count": null,
      "outputs": []
    },
    {
      "cell_type": "code",
      "metadata": {
        "id": "MyJxQhSSA2kU"
      },
      "source": [
        "stop_words = set(stopwords.words('english')) \n",
        "def text_cleaner(text):\n",
        "    new_text = text.lower() #lower case\n",
        "    new_text = re.sub(r'\\([^)]*\\)', '', new_text) #text in bracket\n",
        "    new_text = re.sub('\"','', new_text) \n",
        "    new_text = ' '.join([contraction_mapping[t] if t in contraction_mapping else t for t in new_text.split(\" \")])    #contraction mapping\n",
        "    new_text = re.sub(r\"'s\\b\",\"\",new_text) #removal 's\n",
        "    new_text = re.sub(r\"([-:;!?])\", r\" \\1\", new_text)\n",
        "    new_text = re.sub(r\"[-:;!?]+\", r\" \", new_text) #removal of punctuation\n",
        "    tokens = [w for w in new_text.split() if not w in stop_words] #removal of stop words\n",
        "    long_words=[]\n",
        "    for i in tokens:\n",
        "        long_words.append(i)   \n",
        "    return (\" \".join(long_words)).strip()\n",
        "\n",
        "cleaned_text_train = []\n",
        "cleaned_text_test = []\n",
        "cleaned_text_validation = []\n",
        "for i in data['Document']:\n",
        "    cleaned_text_train.append(text_cleaner(i))\n",
        "for i in data1['Document']:\n",
        "    cleaned_text_test.append(text_cleaner(i))\n",
        "for i in data2['Document']:\n",
        "    cleaned_text_validation.append(text_cleaner(i))"
      ],
      "execution_count": null,
      "outputs": []
    },
    {
      "cell_type": "code",
      "metadata": {
        "id": "dtFB9MCHA2iV"
      },
      "source": [
        "def summary_cleaner(text):\n",
        "    new_text = re.sub('\"','', text)\n",
        "    new_text = ' '.join([contraction_mapping[t] if t in contraction_mapping else t for t in new_text.split(\" \")])    \n",
        "    new_text = re.sub(r\"'s\\b\",\"\",new_text)\n",
        "    new_text = re.sub(r\"([-:;!?])\", r\" \\1\", new_text)\n",
        "    new_text = re.sub(r\"[-:;!??]+\", r\" \", new_text)\n",
        "    new_text = new_text.lower()\n",
        "    tokens=new_text.split()\n",
        "    new_text=''\n",
        "    for i in tokens:\n",
        "        new_text=new_text+i+' '  \n",
        "    return new_text\n",
        "cleaned_summary_train = []\n",
        "cleaned_summary_test= []\n",
        "cleaned_summary_validation = []\n",
        "for i in data['Summary']:\n",
        "    cleaned_summary_train.append(summary_cleaner(i))\n",
        "for i in data1['Summary']:\n",
        "    cleaned_summary_test.append(summary_cleaner(i))\n",
        "for i in data2['Summary']:\n",
        "    cleaned_summary_validation.append(summary_cleaner(i))\n",
        "\n",
        "data['cleaned_document']=cleaned_text_train\n",
        "data['cleaned_summary']=cleaned_summary_train\n",
        "data['cleaned_summary'].replace('', np.nan, inplace=True)\n",
        "data.dropna(axis=0,inplace=True)\n",
        "\n",
        "data1['cleaned_document']=cleaned_text_test\n",
        "data1['cleaned_summary']=cleaned_summary_test\n",
        "data1['cleaned_summary'].replace('', np.nan, inplace=True)\n",
        "data1.dropna(axis=0,inplace=True)\n",
        "\n",
        "data2['cleaned_document']=cleaned_text_validation\n",
        "data2['cleaned_summary']=cleaned_summary_validation\n",
        "data2['cleaned_summary'].replace('', np.nan, inplace=True)\n",
        "data2.dropna(axis=0,inplace=True)"
      ],
      "execution_count": null,
      "outputs": []
    },
    {
      "cell_type": "code",
      "metadata": {
        "id": "UCxJSpu8A2f3"
      },
      "source": [
        "def kan_summary_cleaner(text):\n",
        "    new_text = re.sub('\"','', text) \n",
        "    new_text = re.sub(r\"([-:;!?])\", r\" \\1\", new_text)\n",
        "    new_text = re.sub(r\"[-:;!??]+\", r\" \", new_text)\n",
        "    tokens=new_text.split()\n",
        "    new_text=''\n",
        "    for i in tokens:\n",
        "        new_text=new_text+i+' '  \n",
        "    return new_text\n",
        "cleaned_kan_summary_train = []\n",
        "cleaned_kan_summary_test= []\n",
        "cleaned_kan_summary_validation = []\n",
        "for i in data['Kannada_summary']:\n",
        "    cleaned_kan_summary_train.append(kan_summary_cleaner(i))\n",
        "for i in data1['Kannada_summary']:\n",
        "    cleaned_kan_summary_test.append(kan_summary_cleaner(i))\n",
        "for i in data2['Kannada_summary']:\n",
        "    cleaned_kan_summary_validation.append(kan_summary_cleaner(i))\n",
        "\n",
        "data['cleaned_document']=cleaned_text_train\n",
        "data['cleaned_summary']=cleaned_summary_train\n",
        "data['cleaned_summary'].replace('', np.nan, inplace=True)\n",
        "data['cleaned_kan_summary']=cleaned_kan_summary_train\n",
        "data['cleaned_kan_summary'].replace('', np.nan, inplace=True)\n",
        "data.dropna(axis=0,inplace=True)\n",
        "\n",
        "data1['cleaned_document']=cleaned_text_test\n",
        "data1['cleaned_summary']=cleaned_summary_test\n",
        "data1['cleaned_summary'].replace('', np.nan, inplace=True)\n",
        "data1['cleaned_kan_summary']=cleaned_kan_summary_test\n",
        "data1['cleaned_kan_summary'].replace('', np.nan, inplace=True)\n",
        "data1.dropna(axis=0,inplace=True)\n",
        "\n",
        "data2['cleaned_document']=cleaned_text_validation\n",
        "data2['cleaned_summary']=cleaned_summary_validation\n",
        "data2['cleaned_summary'].replace('', np.nan, inplace=True)\n",
        "data2['cleaned_kan_summary']=cleaned_kan_summary_validation\n",
        "data2['cleaned_kan_summary'].replace('', np.nan, inplace=True)\n",
        "data2.dropna(axis=0,inplace=True)"
      ],
      "execution_count": null,
      "outputs": []
    },
    {
      "cell_type": "code",
      "metadata": {
        "colab": {
          "base_uri": "https://localhost:8080/"
        },
        "id": "7ubv2vU5BbXW",
        "outputId": "e0797fe8-af66-4cc3-fb87-2a3b11b88721"
      },
      "source": [
        "for i in range(5):\n",
        "    print(\"Doc:\",data['cleaned_document'][i])\n",
        "    print(\"Summary:\",data['cleaned_summary'][i])\n",
        "    print(\"Kannada_Summary:\",data['cleaned_kan_summary'][i])\n",
        "    print(\"\\n\")"
      ],
      "execution_count": null,
      "outputs": [
        {
          "output_type": "stream",
          "name": "stdout",
          "text": [
            "Doc: official u.s. president barack obama wants lawmakers weigh whether use military force syria. obama sent letter heads house senate saturday night, hours announcing believes military action syrian targets right step take alleged use chemical weapons. proposed legislation obama asks congress approve use military force deter, disrupt, prevent degrade potential future uses chemical weapons weapons mass destruction. step set turn international crisis fierce domestic political battle. key questions looming debate u.n. weapons inspectors find syria happens congress votes syrian government react televised address white house rose garden earlier saturday, president said would take case congress, wants to. believe authority carry military action without specific congressional authorization, know country stronger take course, actions even effective, said. debate, issues big business usual. obama said top congressional leaders agreed schedule debate body returns washington september 9. senate foreign relations committee hold hearing matter tuesday, sen. robert menendez said. transcript read obama full remarks syrian crisis latest developments u.n. inspectors leave syria obama remarks came shortly u.n. inspectors left syria, carrying evidence determine whether chemical weapons used attack early last week damascus suburb. aim game here, mandate, clear ascertain whether chemical weapons used whom, u.n. spokesman martin nesirky told reporters saturday. used weapons reported toxic gas attack damascus suburb august 21 key point global debate syrian crisis. top u.s. officials said doubt syrian government behind it, syrian officials denied responsibility blamed jihadists fighting rebels. british u.s. intelligence reports say attack involved chemical weapons, u.n. officials stressed importance waiting official report inspectors. inspectors share findings u.n. secretary general ban ki moon ban, said wants wait u.n. team final report completed presenting u.n. security council. organization prohibition chemical weapons, nine inspectors belong to, said saturday could take three weeks analyze evidence collected. needs time able analyze information samples, nesirky said. noted ban repeatedly said alternative political solution crisis syria, military solution option. bergen syria problem hell u.s. obama 'this menace must confronted' obama senior advisers debated next steps take, president comments saturday came amid mounting political pressure situation syria. u.s. lawmakers called immediate action others warn stepping could become quagmire. global leaders expressed support, british parliament vote military action earlier week blow obama hopes getting strong backing key nato allies. saturday, obama proposed said would limited military action syrian president bashar al assad. military attack would open ended include u.s. ground forces, said. syria alleged use chemical weapons earlier month assault human dignity, president said. failure respond force, obama argued, could lead escalating use chemical weapons proliferation terrorist groups would people harm. world many dangers, menace must confronted. syria missile strike would happen next map u.s. allied assets around syria obama decision came friday night friday night, president made last minute decision consult lawmakers. happen vote unclear. senior administration official told cnn obama authority act without congress even congress rejects request authorization use force. obama saturday continued shore support strike al assad government. spoke phone french president francois hollande rose garden speech. two leaders agreed international community must deliver resolute message assad regime others would consider using chemical weapons crimes unacceptable violate international norm held accountable world, white house said. meanwhile, uncertainty loomed congress would weigh in, u.s. military officials said remained ready. 5 key assertions u.s. intelligence report syria syria wants chemical weapons horror reactions mixed obama speech spokesman syrian national coalition said opposition group disappointed obama announcement. fear lack action could embolden regime repeat attacks serious way, said spokesman louay safi. quite concerned. members congress applauded obama decision. house speaker john boehner, majority leader eric cantor, majority whip kevin mccarthy conference chair cathy mcmorris rodgers issued statement saturday praising president. constitution, responsibility declare war lies congress, republican lawmakers said. glad president seeking authorization military action syria response serious, substantive questions raised. 160 legislators, including 63 obama fellow democrats, signed letters calling either vote least full debate u.s. action. british prime minister david cameron, whose attempt get lawmakers country support military action syria failed earlier week, responded obama speech twitter post saturday. understand support barack obama position syria, cameron said. influential lawmaker russia stood syria criticized united states theory. main reason obama turning congress military operation get enough support either world, among allies us united states itself, alexei pushkov, chairman international affairs committee russian state duma, said twitter post. united states, scattered groups anti war protesters around country took streets saturday. like many americans...we're tired united states getting involved invading bombing countries, said robin rosecrans, among hundreds los angeles demonstration. syria neighbors think russia, china, iran stand assad syria government unfazed obama speech, military political analyst syrian state tv said obama embarrassed russia opposes military action syria, crying help someone come rescue facing two defeats political military levels. syria prime minister appeared unfazed saber rattling. syrian army status maximum readiness fingers trigger confront challenges, wael nader al halqi said meeting delegation syrian expatriates italy, according banner syria state tv broadcast prior obama address. anchor syrian state television said obama appeared preparing aggression syria based repeated lies. top syrian diplomat told state television network obama facing pressure take military action israel, turkey, arabs right wing extremists united states. think done well cameron terms taking issue parliament, said bashar jaafari, syria ambassador united nations. obama cameron, said, climbed top tree know get down. syrian government denied used chemical weapons august 21 attack, saying jihadists fighting rebels used effort turn global sentiments it. british intelligence put number people killed attack 350. saturday, obama said told, well 1,000 people murdered. u.s. secretary state john kerry friday cited death toll 1,429, 400 children. explanation offered discrepancy. iran u.s. military action syria would spark 'disaster' opinion strikes syria bad idea\n",
            "Summary: syrian official obama climbed to the top of the tree, does not know how to get down. obama sends a letter to the heads of the house and senate. obama to seek congressional approval on military action against syria. aim is to determine whether cw were used, not by whom, says u.n. spokesman. \n",
            "Kannada_Summary: ಸಿರಿಯನ್ ಅಧಿಕಾರಿ ಒಬಾಮಾ ಮರದ ಮೇಲಕ್ಕೆ ಏರಿದರು, ಹೇಗೆ ಇಳಿಯುವುದು ಎಂದು ತಿಳಿದಿಲ್ಲ. ಒಬಾಮಾ ಅವರು ಸದನ ಮತ್ತು ಸೆನೆಟ್ ಮುಖ್ಯಸ್ಥರಿಗೆ ಪತ್ರ ಕಳುಹಿಸುತ್ತಾರೆ. ಸಿರಿಯಾ ವಿರುದ್ಧ ಮಿಲಿಟರಿ ಕ್ರಮ ಕೈಗೊಳ್ಳಲು ಒಬಾಮಾ ಕಾಂಗ್ರೆಸ್ ಅನುಮೋದನೆ ಪಡೆಯಲಿದ್ದಾರೆ. ಸಿಡಬ್ಲ್ಯೂ ಅನ್ನು ಬಳಸಲಾಗಿದೆಯೆ ಎಂದು ನಿರ್ಧರಿಸುವುದು ಗುರಿ, ಯಾರಿಂದಲ್ಲ ಎಂದು ಯುಎನ್ ವಕ್ತಾರರು ಹೇಳುತ್ತಾರೆ. \n",
            "\n",
            "\n",
            "Doc: usain bolt rounded world championships sunday claiming third gold moscow anchored jamaica victory men 4x100m relay. fastest man world charged clear united states rival justin gatlin jamaican quartet nesta carter, kemar bailey cole, nickel ashmeade bolt 37.36 seconds. u.s finished second 37.56 seconds canada taking bronze britain disqualified faulty handover. 26 year old bolt collected eight gold medals world championships, equaling record held american trio carl lewis, michael johnson allyson felix, mention small matter six olympic titles. relay triumph followed individual successes 100 200 meters russian capital. i'm proud continue work dominate long possible, bolt said, previously expressed intention carry 2016 rio olympics. victory never seriously doubt got baton safely hand ashmeade, gatlin united states third leg runner rakieem salaam problems. gatlin strayed lane struggled get full control baton never able get terms bolt. earlier, jamaica women underlined dominance sprint events winning 4x100m relay gold, anchored shelly ann fraser pryce, like bolt completing triple. quartet recorded championship record 41.29 seconds, well clear france, crossed line second place 42.73 seconds. defending champions, united states, initially back bronze medal position losing time second handover alexandria anderson english gardner, promoted silver france subsequently disqualified illegal handover. british quartet, initially fourth, promoted bronze eluded men team. fraser pryce, like bolt aged 26, became first woman achieve three golds 100 200 relay. final action last day championships, france teddy tamgho became third man leap 18m triple jump, exceeding mark four centimeters take gold. germany christina obergfoll finally took gold global level women javelin five previous silvers, kenya asbel kiprop easily tactical men 1500m final. kiprop compatriot eunice jepkoech sum surprise winner women 800m. bolt final dash golden glory brought eight day championship rousing finale, hosts topped medal table united states criticism poor attendances luzhniki stadium. concern pole vault gold medalist yelena isinbayeva made controversial remarks support russia new laws, make propagandizing non traditional sexual relations among minors criminal offense. later attempted clarify comments, renewed calls gay rights groups boycott 2014 winter games sochi, next major sports event russia.\n",
            "Summary: usain bolt wins third gold of world championship. anchors jamaica to 4x100m relay victory. eighth gold at the championships for bolt. jamaica double up in women 4x100m relay. \n",
            "Kannada_Summary: ಉಸೇನ್ ಬೋಲ್ಟ್ ವಿಶ್ವ ಚಾಂಪಿಯನ್‌ಶಿಪ್‌ನ ಮೂರನೇ ಚಿನ್ನ ಗೆದ್ದಿದ್ದಾರೆ. ಜಮೈಕಾದ ಆಂಕರ್ಸ್ 4x100 ಮೀ ರಿಲೇ ಗೆಲುವು. ಬೋಲ್ಟ್ ಚಾಂಪಿಯನ್‌ಶಿಪ್‌ನಲ್ಲಿ ಎಂಟನೇ ಚಿನ್ನ. ಮಹಿಳೆಯರ 4x100 ಮೀಟರ್ ರಿಲೇಯಲ್ಲಿ ಜಮೈಕಾ ದ್ವಿಗುಣಗೊಂಡಿದೆ. \n",
            "\n",
            "\n",
            "Doc: kansas city, missouri general services administration, already investigation lavish spending, allowed employee telecommute hawaii even though based gsa kansas city, missouri, office, cnn investigation found. cost $24,000 business development specialist travel mainland united states past year. among several hundred gsa virtual workers also travel various conferences home offices, costing agency millions dollars past three years. program, employees work home may live another state region actually assigned. kansas city employee, started job january 2011, paid $84,440 works home honolulu, gsa representative confirmed. past year, according gsa travel records, employee flown back mainland nine times conferences meetings. four trips st. louis four washington, side trip cincinnati one san diego. total cost taxpayers $24,221. jason klumb, gsa regional administrator kansas city, defended hire. cost travel included consideration candidacy employee compared applicants, klumb said. factoring in, determined best candidate, even light cost would incurred. klumb called gsa teleworking program successful program going lead cost savings taxpayers. gsa spokeswoman said, going defend type travel. gsa employee kansas city, requested anonymity, said hiring someone hawaii work kansas city region ludicrous. make sense, employee said. consider everything need hire someone, would better look someone kansas city area. would reduced cost travel least 70 percent look airfare takes honolulu washington, d.c., lot business done. dan tangherlini, appointed acting gsa administrator year, said agency examining cost entire teleworking program. think important part gsa think make sure open up, avail smart people country, also make sure clear business case, said. someone working nebraska reporting boston, clear explanation value providing, got give business case. got explain cost effective move american people, new standard asking everyone gsa adhere to. gsa virtual employee program different telework programs offered many private companies including cnn parent company, turner broadcasting, employees encouraged work home days week, partially reduce traffic congestion. house committee oversight government reform requested details gsa teleworking program june. followed disclosures 95 virtual employees, including 12 supervisory positions, spent nearly $750,000 travel costs october 2010 june 2011. american people right know federal bureaucrats enjoy benefits virtual work eligible responsible stewards taxpayer dollars support program, according letter committee chairman rep. darrell issa, r california, gsa. details requested issa gsa program provided committee. cnn also requested information two months ago federal freedom information act repeatedly told gsa foia staff members finished compiling material. general services administration, 12,600 employees $26.3 billion budget, relatively obscure federal agency handles government real estate non military procurement. congress launched investigation gsa scathing inspector general report issued year showed lavish spending $823,000 agency western regions conference las vegas october 2010. controversy became politically toxic reports video clips lavish conference released. revelation prompted taxpayer indignation, embarrassed administration put spotlight wasteful spending gsa. jeff neely, gsa official organized conference, resigned, agency administrator, martha johnson. two johnson deputies fired, eight employees left agency. tangherlini, former treasury department official, took acting gsa administrator. addition las vegas conference, gsa apparently spent $330,000 relocate employee denver hawaii probably millions employees two year period, according transcript interview gsa event planner. 84 gsa employees, supervisors senior staff subjects inspector general investigations still collecting bonuses, totaling $1 million taxpayer money. july, cnn investigation revealed gsa kansas city office spent $20,000 send employees cooking classes build team spirit. classes amount significant sum money world trillion dollar government budgets, insiders said part free spending culture went years gsa kansas city regional headquarters. gsa spokeswoman betsaida alcantara said statement year agency practices top review. cnn sara anwar, elizabeth m. nunez tom cohen contributed report. watch erin burnett weekdays 7pm et. latest erin burnett click here.\n",
            "Summary: the employee in agency kansas city office is among hundreds of virtual workers. the employee travel to and from the mainland u.s. last year cost more than $24,000. the telecommuting program, like all gsa practices, is under review. \n",
            "Kannada_Summary: ಏಜೆನ್ಸಿಯ ಕಾನ್ಸಾಸ್ ಸಿಟಿ ಕಚೇರಿಯಲ್ಲಿ ಉದ್ಯೋಗಿ ನೂರಾರು ವರ್ಚುವಲ್ ಕಾರ್ಮಿಕರಲ್ಲಿ ಒಬ್ಬರಾಗಿದ್ದಾರೆ. ಕಳೆದ ವರ್ಷ ಯುಎಸ್ ಮುಖ್ಯ ಭೂಮಿಗೆ ಮತ್ತು ಅಲ್ಲಿಂದ ನೌಕರರ ಪ್ರಯಾಣಕ್ಕೆ cost 24,000 ಕ್ಕಿಂತ ಹೆಚ್ಚು ಖರ್ಚಾಗಿದೆ. ಎಲ್ಲಾ ಜಿಎಸ್ಎ ಅಭ್ಯಾಸಗಳಂತೆ ದೂರಸಂಪರ್ಕ ಕಾರ್ಯಕ್ರಮವು ಪರಿಶೀಲನೆಯಲ್ಲಿದೆ. \n",
            "\n",
            "\n",
            "Doc: los angeles medical doctor vancouver, british columbia, said thursday california arson suspect harry burkhart suffered severe mental illness 2010, examined part team doctors. dr. blaga stancheva, family physician specialist obstetrics, said burkhart mother, dorothee, patients vancouver applying refugee status canada. asked diagnose treat harry support claim explaining unable show small claims court case, stancheva told cnn phone interview. declined cite case burkhart role it. stancheva said doctors including psychiatrist diagnosed burkhart autism, severe anxiety, post traumatic stress disorder depression. diagnosis spelled letter wrote small claims court case, stancheva said. stancheva, citing doctor patient confidentiality, would elaborate further, would identify psychiatrist involved diagnosis. burkhart, 24 year old german national, charged 37 counts arson following string 52 fires los angeles. charges connection arson fires 12 locations scattered hollywood, west hollywood sherman oaks, according authorities. stancheva said refugee applications burkhart mother denied canadian government, seen burkhart since early march 2010. shocked dismayed happened los angeles, appears treated depression, said. burkhart court wednesday preliminary hearing. prosecutors said rage americans, triggered mother arrest last week, motivated campaign terror dozens fires hollywood nearby communities. burkhart kept eyes closed remained limp hearing, requiring sheriff deputies hold up. district attorney called courtroom behavior bizarre. defendant engaged protracted campaign set, people believe, upwards 52 arson fires essentially amounts campaign terror community, los angeles county deputy district attorney sean carney said. people believe engaged conduct hatred americans. carney told court burkhart would flee country allowed jail bond, los angeles superior court judge upinder kalra said choice set bail. go free awaiting trial, burkhart must post $2.85 million bond surrender german passport. revealed burkhart also investigation arson fraud relation fire neukirchen, near frankfurt, germany. worst arson sprees city history began last friday morning car fire hollywood spread apartments garage, new fires happened since burkhart arrested monday, los angeles district attorney steve cooley said. one hurt fires, property damage costs likely reach $3 million, authorities said. cooley called almost attempted murder, people sleeping apartments burkhart allegedly set cars fire incendiary devices placed engines. criminal complaint filed wednesday also alleged fires caused use device designed accelerate fire, cooley said. found true, allegation could mean additional custody time defendant. numerous instances, cars parked carports, resulting fires spreading adjacent occupied apartment buildings, sworn affidavit los angeles arson investigator said. vast majority fires occurred late night occupants apartment buildings asleep. investigator edward nordskog affidavit detailed burkhart behavior day fires began, federal courtroom extradition proceedings mother. audience, defendant began yelling angry manner, 'f k americans.' defendant also attempted communicate mother custody. shortly thereafter, defendant ejected courtroom deputy u.s. marshals, nordskog wrote. dorothee burkhart arrested day international arrest warrant issued district court frankfurt, germany, said federal court spokesman gunther meilinger. 53 year old german woman wanted 16 counts fraud three counts embezzlement, said. charges include allegation failed pay breast enhancement operation performed 2004, meilinger said. german charges, however, stem phony real estate deals dorothee burkhart allegedly conducted 2000 2006. opinion defendant criminal spree motivated rage americans setting fires defendant intended harm terrorize many residents city county los angeles possible, nordskog wrote. search burkhart hollywood apartment found newspaper clippings los angeles fires articles germany reporting similar car fires frankfurt, germany september, 2011, investigator said. opinion based experience highly likely defendant history setting arson fires germany came united states, nordskog wrote. burkhart mother scheduled another extradition hearing friday, due back court arraignment january 24. meanwhile, burkharts housed los angeles jail.\n",
            "Summary: new a canadian doctor says she was part of a team examining harry burkhart in 2010. new diagnosis autism, severe anxiety, post traumatic stress disorder and depression. burkhart is also suspected in a german arson probe, officials say. prosecutors believe the german national set a string of fires in los angeles. \n",
            "Kannada_Summary: ಹೊಸ ಕೆನಡಾದ ವೈದ್ಯರೊಬ್ಬರು 2010 ರಲ್ಲಿ ಹ್ಯಾರಿ ಬುರ್ಖಾರ್ಟ್ ಅವರನ್ನು ಪರೀಕ್ಷಿಸುವ ತಂಡದ ಭಾಗವಾಗಿದ್ದರು ಎಂದು ಹೇಳಿದ್ದಾರೆ. ಹೊಸ ರೋಗನಿರ್ಣಯ ಸ್ವಲೀನತೆ, ತೀವ್ರ ಆತಂಕ, ನಂತರದ ಆಘಾತಕಾರಿ ಒತ್ತಡದ ಕಾಯಿಲೆ ಮತ್ತು ಖಿನ್ನತೆ. ಜರ್ಮನಿಯ ಅಗ್ನಿಸ್ಪರ್ಶ ತನಿಖೆಯಲ್ಲಿ ಬುರ್ಖಾರ್ಟ್ ಸಹ ಶಂಕಿಸಲಾಗಿದೆ ಎಂದು ಅಧಿಕಾರಿಗಳು ಹೇಳುತ್ತಾರೆ. ಜರ್ಮನ್ ರಾಷ್ಟ್ರೀಯರು ಲಾಸ್ ಏಂಜಲೀಸ್ನಲ್ಲಿ ಬೆಂಕಿಯ ಸರಮಾಲೆ ಹಾಕಿದ್ದಾರೆ ಎಂದು ಪ್ರಾಸಿಕ್ಯೂಟರ್ಗಳು ನಂಬುತ್ತಾರೆ. \n",
            "\n",
            "\n",
            "Doc: police arrested another teen thursday, sixth suspect jailed connection gang rape 15 year old girl northern california high school campus. jose carlos montano, 18, arrested charges felony rape, rape concert force, penetration foreign object, said richmond police lt. mark gagan. montano arrested thursday evening san pablo, california, small town two miles city richmond, crime took place. montano, held lieu $1.3 million bail, accused taking part police said 2½ hour assault richmond high school campus. police said many 10 people involved rape dimly lit back alley school, another 10 people watched without calling 911. victim taken hospital critical condition, released wednesday. four teenage suspects arraigned thursday charges connected rape. cody ray smith, described court older 14, pleaded guilty charges rape foreign object rape force. two juveniles, ari abdallah morales marcelles james peter, appeared smith contra costa county superior court, enter plea. court described morales younger 16, give age peter. three juveniles, wore bulletproof vests hearing, charged adults. fourth person, manuel ortega, 19, appeared separately without attorney enter plea. wear protective vest. another person, salvador rodriguez, 21, arrested tuesday night, court thursday.\n",
            "Summary: another arrest made in gang rape outside california school. investigators say up to 20 people took part or stood and watched the assault. four suspects appeared in court thursday three wore bulletproof vests. \n",
            "Kannada_Summary: ಕ್ಯಾಲಿಫೋರ್ನಿಯಾ ಶಾಲೆಯ ಹೊರಗೆ ಸಾಮೂಹಿಕ ಅತ್ಯಾಚಾರದಲ್ಲಿ ಮತ್ತೊಂದು ಬಂಧನ. ತನಿಖಾಧಿಕಾರಿಗಳು 20 ಜನರು ಭಾಗವಹಿಸಿದ್ದರು ಅಥವಾ ನಿಂತು ಹಲ್ಲೆಯನ್ನು ವೀಕ್ಷಿಸಿದರು. ನಾಲ್ವರು ಶಂಕಿತರು ಗುರುವಾರ ನ್ಯಾಯಾಲಯಕ್ಕೆ ಹಾಜರಾದರು ಮೂರು ಗುಂಡು ನಿರೋಧಕ ನಡುವಂಗಿಗಳನ್ನು ಧರಿಸಿದ್ದರು. \n",
            "\n",
            "\n"
          ]
        }
      ]
    },
    {
      "cell_type": "code",
      "metadata": {
        "id": "K447OCwL-60U"
      },
      "source": [
        "clean_texts=data['cleaned_document']\n",
        "clean_summaries=data['cleaned_summary']"
      ],
      "execution_count": null,
      "outputs": []
    },
    {
      "cell_type": "code",
      "metadata": {
        "colab": {
          "base_uri": "https://localhost:8080/"
        },
        "id": "kzcNgD3sAISu",
        "outputId": "8e0f2bfa-e93e-4204-a0e6-720457ae8b68"
      },
      "source": [
        "# Inspect the cleaned summaries and texts to ensure they have been cleaned well\n",
        "for i in range(5):\n",
        "    print(\"Clean Review #\",i+1)\n",
        "    print(clean_summaries[i])\n",
        "    print(clean_texts[i])\n",
        "    print()\n"
      ],
      "execution_count": null,
      "outputs": [
        {
          "output_type": "stream",
          "name": "stdout",
          "text": [
            "Clean Review # 1\n",
            "syrian official obama climbed to the top of the tree, does not know how to get down. obama sends a letter to the heads of the house and senate. obama to seek congressional approval on military action against syria. aim is to determine whether cw were used, not by whom, says u.n. spokesman. \n",
            "official u.s. president barack obama wants lawmakers weigh whether use military force syria. obama sent letter heads house senate saturday night, hours announcing believes military action syrian targets right step take alleged use chemical weapons. proposed legislation obama asks congress approve use military force deter, disrupt, prevent degrade potential future uses chemical weapons weapons mass destruction. step set turn international crisis fierce domestic political battle. key questions looming debate u.n. weapons inspectors find syria happens congress votes syrian government react televised address white house rose garden earlier saturday, president said would take case congress, wants to. believe authority carry military action without specific congressional authorization, know country stronger take course, actions even effective, said. debate, issues big business usual. obama said top congressional leaders agreed schedule debate body returns washington september 9. senate foreign relations committee hold hearing matter tuesday, sen. robert menendez said. transcript read obama full remarks syrian crisis latest developments u.n. inspectors leave syria obama remarks came shortly u.n. inspectors left syria, carrying evidence determine whether chemical weapons used attack early last week damascus suburb. aim game here, mandate, clear ascertain whether chemical weapons used whom, u.n. spokesman martin nesirky told reporters saturday. used weapons reported toxic gas attack damascus suburb august 21 key point global debate syrian crisis. top u.s. officials said doubt syrian government behind it, syrian officials denied responsibility blamed jihadists fighting rebels. british u.s. intelligence reports say attack involved chemical weapons, u.n. officials stressed importance waiting official report inspectors. inspectors share findings u.n. secretary general ban ki moon ban, said wants wait u.n. team final report completed presenting u.n. security council. organization prohibition chemical weapons, nine inspectors belong to, said saturday could take three weeks analyze evidence collected. needs time able analyze information samples, nesirky said. noted ban repeatedly said alternative political solution crisis syria, military solution option. bergen syria problem hell u.s. obama 'this menace must confronted' obama senior advisers debated next steps take, president comments saturday came amid mounting political pressure situation syria. u.s. lawmakers called immediate action others warn stepping could become quagmire. global leaders expressed support, british parliament vote military action earlier week blow obama hopes getting strong backing key nato allies. saturday, obama proposed said would limited military action syrian president bashar al assad. military attack would open ended include u.s. ground forces, said. syria alleged use chemical weapons earlier month assault human dignity, president said. failure respond force, obama argued, could lead escalating use chemical weapons proliferation terrorist groups would people harm. world many dangers, menace must confronted. syria missile strike would happen next map u.s. allied assets around syria obama decision came friday night friday night, president made last minute decision consult lawmakers. happen vote unclear. senior administration official told cnn obama authority act without congress even congress rejects request authorization use force. obama saturday continued shore support strike al assad government. spoke phone french president francois hollande rose garden speech. two leaders agreed international community must deliver resolute message assad regime others would consider using chemical weapons crimes unacceptable violate international norm held accountable world, white house said. meanwhile, uncertainty loomed congress would weigh in, u.s. military officials said remained ready. 5 key assertions u.s. intelligence report syria syria wants chemical weapons horror reactions mixed obama speech spokesman syrian national coalition said opposition group disappointed obama announcement. fear lack action could embolden regime repeat attacks serious way, said spokesman louay safi. quite concerned. members congress applauded obama decision. house speaker john boehner, majority leader eric cantor, majority whip kevin mccarthy conference chair cathy mcmorris rodgers issued statement saturday praising president. constitution, responsibility declare war lies congress, republican lawmakers said. glad president seeking authorization military action syria response serious, substantive questions raised. 160 legislators, including 63 obama fellow democrats, signed letters calling either vote least full debate u.s. action. british prime minister david cameron, whose attempt get lawmakers country support military action syria failed earlier week, responded obama speech twitter post saturday. understand support barack obama position syria, cameron said. influential lawmaker russia stood syria criticized united states theory. main reason obama turning congress military operation get enough support either world, among allies us united states itself, alexei pushkov, chairman international affairs committee russian state duma, said twitter post. united states, scattered groups anti war protesters around country took streets saturday. like many americans...we're tired united states getting involved invading bombing countries, said robin rosecrans, among hundreds los angeles demonstration. syria neighbors think russia, china, iran stand assad syria government unfazed obama speech, military political analyst syrian state tv said obama embarrassed russia opposes military action syria, crying help someone come rescue facing two defeats political military levels. syria prime minister appeared unfazed saber rattling. syrian army status maximum readiness fingers trigger confront challenges, wael nader al halqi said meeting delegation syrian expatriates italy, according banner syria state tv broadcast prior obama address. anchor syrian state television said obama appeared preparing aggression syria based repeated lies. top syrian diplomat told state television network obama facing pressure take military action israel, turkey, arabs right wing extremists united states. think done well cameron terms taking issue parliament, said bashar jaafari, syria ambassador united nations. obama cameron, said, climbed top tree know get down. syrian government denied used chemical weapons august 21 attack, saying jihadists fighting rebels used effort turn global sentiments it. british intelligence put number people killed attack 350. saturday, obama said told, well 1,000 people murdered. u.s. secretary state john kerry friday cited death toll 1,429, 400 children. explanation offered discrepancy. iran u.s. military action syria would spark 'disaster' opinion strikes syria bad idea\n",
            "\n",
            "Clean Review # 2\n",
            "usain bolt wins third gold of world championship. anchors jamaica to 4x100m relay victory. eighth gold at the championships for bolt. jamaica double up in women 4x100m relay. \n",
            "usain bolt rounded world championships sunday claiming third gold moscow anchored jamaica victory men 4x100m relay. fastest man world charged clear united states rival justin gatlin jamaican quartet nesta carter, kemar bailey cole, nickel ashmeade bolt 37.36 seconds. u.s finished second 37.56 seconds canada taking bronze britain disqualified faulty handover. 26 year old bolt collected eight gold medals world championships, equaling record held american trio carl lewis, michael johnson allyson felix, mention small matter six olympic titles. relay triumph followed individual successes 100 200 meters russian capital. i'm proud continue work dominate long possible, bolt said, previously expressed intention carry 2016 rio olympics. victory never seriously doubt got baton safely hand ashmeade, gatlin united states third leg runner rakieem salaam problems. gatlin strayed lane struggled get full control baton never able get terms bolt. earlier, jamaica women underlined dominance sprint events winning 4x100m relay gold, anchored shelly ann fraser pryce, like bolt completing triple. quartet recorded championship record 41.29 seconds, well clear france, crossed line second place 42.73 seconds. defending champions, united states, initially back bronze medal position losing time second handover alexandria anderson english gardner, promoted silver france subsequently disqualified illegal handover. british quartet, initially fourth, promoted bronze eluded men team. fraser pryce, like bolt aged 26, became first woman achieve three golds 100 200 relay. final action last day championships, france teddy tamgho became third man leap 18m triple jump, exceeding mark four centimeters take gold. germany christina obergfoll finally took gold global level women javelin five previous silvers, kenya asbel kiprop easily tactical men 1500m final. kiprop compatriot eunice jepkoech sum surprise winner women 800m. bolt final dash golden glory brought eight day championship rousing finale, hosts topped medal table united states criticism poor attendances luzhniki stadium. concern pole vault gold medalist yelena isinbayeva made controversial remarks support russia new laws, make propagandizing non traditional sexual relations among minors criminal offense. later attempted clarify comments, renewed calls gay rights groups boycott 2014 winter games sochi, next major sports event russia.\n",
            "\n",
            "Clean Review # 3\n",
            "the employee in agency kansas city office is among hundreds of virtual workers. the employee travel to and from the mainland u.s. last year cost more than $24,000. the telecommuting program, like all gsa practices, is under review. \n",
            "kansas city, missouri general services administration, already investigation lavish spending, allowed employee telecommute hawaii even though based gsa kansas city, missouri, office, cnn investigation found. cost $24,000 business development specialist travel mainland united states past year. among several hundred gsa virtual workers also travel various conferences home offices, costing agency millions dollars past three years. program, employees work home may live another state region actually assigned. kansas city employee, started job january 2011, paid $84,440 works home honolulu, gsa representative confirmed. past year, according gsa travel records, employee flown back mainland nine times conferences meetings. four trips st. louis four washington, side trip cincinnati one san diego. total cost taxpayers $24,221. jason klumb, gsa regional administrator kansas city, defended hire. cost travel included consideration candidacy employee compared applicants, klumb said. factoring in, determined best candidate, even light cost would incurred. klumb called gsa teleworking program successful program going lead cost savings taxpayers. gsa spokeswoman said, going defend type travel. gsa employee kansas city, requested anonymity, said hiring someone hawaii work kansas city region ludicrous. make sense, employee said. consider everything need hire someone, would better look someone kansas city area. would reduced cost travel least 70 percent look airfare takes honolulu washington, d.c., lot business done. dan tangherlini, appointed acting gsa administrator year, said agency examining cost entire teleworking program. think important part gsa think make sure open up, avail smart people country, also make sure clear business case, said. someone working nebraska reporting boston, clear explanation value providing, got give business case. got explain cost effective move american people, new standard asking everyone gsa adhere to. gsa virtual employee program different telework programs offered many private companies including cnn parent company, turner broadcasting, employees encouraged work home days week, partially reduce traffic congestion. house committee oversight government reform requested details gsa teleworking program june. followed disclosures 95 virtual employees, including 12 supervisory positions, spent nearly $750,000 travel costs october 2010 june 2011. american people right know federal bureaucrats enjoy benefits virtual work eligible responsible stewards taxpayer dollars support program, according letter committee chairman rep. darrell issa, r california, gsa. details requested issa gsa program provided committee. cnn also requested information two months ago federal freedom information act repeatedly told gsa foia staff members finished compiling material. general services administration, 12,600 employees $26.3 billion budget, relatively obscure federal agency handles government real estate non military procurement. congress launched investigation gsa scathing inspector general report issued year showed lavish spending $823,000 agency western regions conference las vegas october 2010. controversy became politically toxic reports video clips lavish conference released. revelation prompted taxpayer indignation, embarrassed administration put spotlight wasteful spending gsa. jeff neely, gsa official organized conference, resigned, agency administrator, martha johnson. two johnson deputies fired, eight employees left agency. tangherlini, former treasury department official, took acting gsa administrator. addition las vegas conference, gsa apparently spent $330,000 relocate employee denver hawaii probably millions employees two year period, according transcript interview gsa event planner. 84 gsa employees, supervisors senior staff subjects inspector general investigations still collecting bonuses, totaling $1 million taxpayer money. july, cnn investigation revealed gsa kansas city office spent $20,000 send employees cooking classes build team spirit. classes amount significant sum money world trillion dollar government budgets, insiders said part free spending culture went years gsa kansas city regional headquarters. gsa spokeswoman betsaida alcantara said statement year agency practices top review. cnn sara anwar, elizabeth m. nunez tom cohen contributed report. watch erin burnett weekdays 7pm et. latest erin burnett click here.\n",
            "\n",
            "Clean Review # 4\n",
            "new a canadian doctor says she was part of a team examining harry burkhart in 2010. new diagnosis autism, severe anxiety, post traumatic stress disorder and depression. burkhart is also suspected in a german arson probe, officials say. prosecutors believe the german national set a string of fires in los angeles. \n",
            "los angeles medical doctor vancouver, british columbia, said thursday california arson suspect harry burkhart suffered severe mental illness 2010, examined part team doctors. dr. blaga stancheva, family physician specialist obstetrics, said burkhart mother, dorothee, patients vancouver applying refugee status canada. asked diagnose treat harry support claim explaining unable show small claims court case, stancheva told cnn phone interview. declined cite case burkhart role it. stancheva said doctors including psychiatrist diagnosed burkhart autism, severe anxiety, post traumatic stress disorder depression. diagnosis spelled letter wrote small claims court case, stancheva said. stancheva, citing doctor patient confidentiality, would elaborate further, would identify psychiatrist involved diagnosis. burkhart, 24 year old german national, charged 37 counts arson following string 52 fires los angeles. charges connection arson fires 12 locations scattered hollywood, west hollywood sherman oaks, according authorities. stancheva said refugee applications burkhart mother denied canadian government, seen burkhart since early march 2010. shocked dismayed happened los angeles, appears treated depression, said. burkhart court wednesday preliminary hearing. prosecutors said rage americans, triggered mother arrest last week, motivated campaign terror dozens fires hollywood nearby communities. burkhart kept eyes closed remained limp hearing, requiring sheriff deputies hold up. district attorney called courtroom behavior bizarre. defendant engaged protracted campaign set, people believe, upwards 52 arson fires essentially amounts campaign terror community, los angeles county deputy district attorney sean carney said. people believe engaged conduct hatred americans. carney told court burkhart would flee country allowed jail bond, los angeles superior court judge upinder kalra said choice set bail. go free awaiting trial, burkhart must post $2.85 million bond surrender german passport. revealed burkhart also investigation arson fraud relation fire neukirchen, near frankfurt, germany. worst arson sprees city history began last friday morning car fire hollywood spread apartments garage, new fires happened since burkhart arrested monday, los angeles district attorney steve cooley said. one hurt fires, property damage costs likely reach $3 million, authorities said. cooley called almost attempted murder, people sleeping apartments burkhart allegedly set cars fire incendiary devices placed engines. criminal complaint filed wednesday also alleged fires caused use device designed accelerate fire, cooley said. found true, allegation could mean additional custody time defendant. numerous instances, cars parked carports, resulting fires spreading adjacent occupied apartment buildings, sworn affidavit los angeles arson investigator said. vast majority fires occurred late night occupants apartment buildings asleep. investigator edward nordskog affidavit detailed burkhart behavior day fires began, federal courtroom extradition proceedings mother. audience, defendant began yelling angry manner, 'f k americans.' defendant also attempted communicate mother custody. shortly thereafter, defendant ejected courtroom deputy u.s. marshals, nordskog wrote. dorothee burkhart arrested day international arrest warrant issued district court frankfurt, germany, said federal court spokesman gunther meilinger. 53 year old german woman wanted 16 counts fraud three counts embezzlement, said. charges include allegation failed pay breast enhancement operation performed 2004, meilinger said. german charges, however, stem phony real estate deals dorothee burkhart allegedly conducted 2000 2006. opinion defendant criminal spree motivated rage americans setting fires defendant intended harm terrorize many residents city county los angeles possible, nordskog wrote. search burkhart hollywood apartment found newspaper clippings los angeles fires articles germany reporting similar car fires frankfurt, germany september, 2011, investigator said. opinion based experience highly likely defendant history setting arson fires germany came united states, nordskog wrote. burkhart mother scheduled another extradition hearing friday, due back court arraignment january 24. meanwhile, burkharts housed los angeles jail.\n",
            "\n",
            "Clean Review # 5\n",
            "another arrest made in gang rape outside california school. investigators say up to 20 people took part or stood and watched the assault. four suspects appeared in court thursday three wore bulletproof vests. \n",
            "police arrested another teen thursday, sixth suspect jailed connection gang rape 15 year old girl northern california high school campus. jose carlos montano, 18, arrested charges felony rape, rape concert force, penetration foreign object, said richmond police lt. mark gagan. montano arrested thursday evening san pablo, california, small town two miles city richmond, crime took place. montano, held lieu $1.3 million bail, accused taking part police said 2½ hour assault richmond high school campus. police said many 10 people involved rape dimly lit back alley school, another 10 people watched without calling 911. victim taken hospital critical condition, released wednesday. four teenage suspects arraigned thursday charges connected rape. cody ray smith, described court older 14, pleaded guilty charges rape foreign object rape force. two juveniles, ari abdallah morales marcelles james peter, appeared smith contra costa county superior court, enter plea. court described morales younger 16, give age peter. three juveniles, wore bulletproof vests hearing, charged adults. fourth person, manuel ortega, 19, appeared separately without attorney enter plea. wear protective vest. another person, salvador rodriguez, 21, arrested tuesday night, court thursday.\n",
            "\n"
          ]
        }
      ]
    },
    {
      "cell_type": "code",
      "metadata": {
        "id": "UWPbWFG0ZsLg"
      },
      "source": [
        "\n",
        "document = clean_texts\n",
        "summary =clean_summaries"
      ],
      "execution_count": null,
      "outputs": []
    },
    {
      "cell_type": "markdown",
      "metadata": {
        "id": "VFNa9UMN6-gb"
      },
      "source": [
        "Model"
      ]
    },
    {
      "cell_type": "code",
      "metadata": {
        "id": "xHRzGwSZlO8g"
      },
      "source": [
        "import re\n",
        "import os\n",
        "import time\n",
        "import numpy as np\n",
        "import pandas as pd \n",
        "import unicodedata\n",
        "import tensorflow as tf\n",
        "import tensorflow.keras as krs\n",
        "from tensorflow.keras.layers import Embedding\n",
        "from tensorflow.keras.optimizers import Adam\n",
        "from tensorflow.keras.losses import SparseCategoricalCrossentropy, CategoricalCrossentropy\n",
        "from tensorflow.keras.preprocessing.text import Tokenizer \n",
        "from tensorflow.keras.optimizers.schedules import LearningRateSchedule\n",
        "import csv\n",
        "\n",
        "BUFFER_SIZE = 20000\n",
        "BATCH_SIZE = 64\n",
        "embedding_dim = 50 # first it was 200"
      ],
      "execution_count": null,
      "outputs": []
    },
    {
      "cell_type": "code",
      "metadata": {
        "id": "tZInEvoQlfMQ"
      },
      "source": [
        "summaries = clean_summaries\n",
        "longreview = clean_texts"
      ],
      "execution_count": null,
      "outputs": []
    },
    {
      "cell_type": "code",
      "metadata": {
        "colab": {
          "base_uri": "https://localhost:8080/"
        },
        "id": "-7-UuI_wlkmG",
        "outputId": "ec261089-5e2d-4c88-c158-a05dba15fcf8"
      },
      "source": [
        "longreview.head()"
      ],
      "execution_count": null,
      "outputs": [
        {
          "output_type": "execute_result",
          "data": {
            "text/plain": [
              "0    official u.s. president barack obama wants law...\n",
              "1    usain bolt rounded world championships sunday ...\n",
              "2    kansas city, missouri general services adminis...\n",
              "3    los angeles medical doctor vancouver, british ...\n",
              "4    police arrested another teen thursday, sixth s...\n",
              "Name: cleaned_document, dtype: object"
            ]
          },
          "metadata": {},
          "execution_count": 19
        }
      ]
    },
    {
      "cell_type": "markdown",
      "metadata": {
        "id": "71x28IosTvGj"
      },
      "source": [
        "Adding <start> and <end> tags to the summary(sentence tokenization)"
      ]
    },
    {
      "cell_type": "code",
      "metadata": {
        "colab": {
          "base_uri": "https://localhost:8080/"
        },
        "id": "XbpHJrtwltbr",
        "outputId": "c1100052-748c-4a39-b53f-5abb17504565"
      },
      "source": [
        "start_token, end_token = '<startseq>' , '<endseq>'\n",
        "summaries = summaries.apply(lambda x: start_token + ' ' + x + ' ' + end_token)\n",
        "summaries.head()"
      ],
      "execution_count": null,
      "outputs": [
        {
          "output_type": "execute_result",
          "data": {
            "text/plain": [
              "0    <startseq> syrian official obama climbed to th...\n",
              "1    <startseq> usain bolt wins third gold of world...\n",
              "2    <startseq> the employee in agency kansas city ...\n",
              "3    <startseq> new a canadian doctor says she was ...\n",
              "4    <startseq> another arrest made in gang rape ou...\n",
              "Name: cleaned_summary, dtype: object"
            ]
          },
          "metadata": {},
          "execution_count": 20
        }
      ]
    },
    {
      "cell_type": "code",
      "metadata": {
        "colab": {
          "base_uri": "https://localhost:8080/"
        },
        "id": "PSO5EXNclwVI",
        "outputId": "31fdc5b1-aaa7-4254-d02b-97be7a6e63c8"
      },
      "source": [
        "# train validation split\n",
        "val_split = 0.1\n",
        "summaries_train = summaries[int(len(summaries)*val_split):]\n",
        "summaries_val = summaries[:int(len(summaries)*val_split)]\n",
        "longreview_train = longreview[int(len(summaries)*val_split):]\n",
        "longreview_val = longreview[:int(len(summaries)*val_split)]\n",
        "\n",
        "len(longreview_val),len(longreview_train)"
      ],
      "execution_count": null,
      "outputs": [
        {
          "output_type": "execute_result",
          "data": {
            "text/plain": [
              "(9011, 81108)"
            ]
          },
          "metadata": {},
          "execution_count": 21
        }
      ]
    },
    {
      "cell_type": "code",
      "metadata": {
        "colab": {
          "base_uri": "https://localhost:8080/"
        },
        "id": "vtAv1lIKly0K",
        "outputId": "d265bd52-658f-45a6-eea9-535524228899"
      },
      "source": [
        "longreview_train.iloc[0], summaries_train.iloc[0]"
      ],
      "execution_count": null,
      "outputs": [
        {
          "output_type": "execute_result",
          "data": {
            "text/plain": [
              "(\"world agree 2013 year girl right education finally even remote lawless corners globe last october, shocked attempted murder 15 year old pakistani girl malala yousufzai, three million people around world rushed sign petition demanding universal girls' education. pakistani government agreed first time legislate compulsory free education provided stipends three million children. week shahnaz nazli, brave 41 year old teacher way child work girls' school, shot dead joined ever lengthening list teachers students murdered support basic right girls go school. murder demonstrates yet parts indian subcontinent, afghanistan, africa, intimidation violence daily reality life many girls want go school many educators want teach them. even today, five months malala shooting swat valley, school friends remain fear violence simply attempting return school. new petition, launched week www.educationenvoy.org first signatories, malala yousafzai father ziauddin calls immediate tightening security protection pupils teachers going school pakistan. tragedies befell malala school friends shahnaz washington three weeks' time u.n. world bank bring together countries track securing universal primary education devise plan move faster universal education end 2015, date millennium development goals met. atrocity shahnaz murdered 200 meters girls school taught khyber tribal district stark reminder continuation threats, intimidation, shootings, arson attacks sometimes even murder taliban weapons war girls' opportunity. also remind us silent majority stood face threats silent public revulsion violence strengthened resolve girls go school. past several years, pakistani taliban militants destroyed hundreds schools khyber pakhtunkhwa province. last year al jazeera showed shabeena, headmistress state run girls' primary school troubled province, battling keep girls school spite threats. film features afshan, one six daughters night security guard, determined secure education. also tells story zarina, whose fight stay school required resist family plan marry age 14. happening pakistan also occurring afghanistan where, despite removal taliban control national government, local teachers pupils pressure stay away school. last year investigation carried allegations taliban extremists poisoning school girls infecting school water. still women run schools, sometimes going underground, claiming offering sewing lessons. many reasons 32 million girls school today. schools go teachers. seven million laboring fields, mines, factories domestic service trafficked. others still child brides, forced school loveless marriages, often undergoing early pregnancies put lives risk. victims unfair discrimination girls, assumption girls need educated play part world. week tragic killing near afghan border five months shooting malala friends bus also reminds us discrimination girls provoked malala shooting gone away, struggle families malala community swat valley far over. injured malala friends shazia ramazan, relearn use left arm hand, kainat riaz. spoken twice phone desire continue education ambition become doctors. sentiments also expressed physician seema jilani new york times piece. according recent reports sent me, armed policemen deployed homes shazia kainat well girls shield harm. kainat says things better four years ago, nonetheless case girls still need police escorts go school. sign petition supporting girls teachers demanding go school free intimidation violence www.educationenvoy.org. site also see details plans meet malala ambition, every girl go school. opinions expressed commentary solely gordon brown.\",\n",
              " \"<startseq> gordon brown girls' eduction is a right that must be protected. petition started to safeguard girls going to school in pakistan. petition started after a school teacher was shot dead. case of schoolgirl malala yousufzai also highlights violence and intimidation against girls.  <endseq>\")"
            ]
          },
          "metadata": {},
          "execution_count": 22
        }
      ]
    },
    {
      "cell_type": "code",
      "metadata": {
        "colab": {
          "base_uri": "https://localhost:8080/"
        },
        "id": "QyP74HWTl1vd",
        "outputId": "f094f12c-a176-4b4f-c9b3-30675fac0aae"
      },
      "source": [
        "# because there are senteces with unusually long lengths, \n",
        "# we caculate the max length that 95% of sentences are shorter than that\n",
        "def max_length(shorts, longs, prct):\n",
        "    # Create a list of all the captions\n",
        "    \n",
        "    length_longs = list(len(d.split()) for d in longs)\n",
        "    length_shorts = list(len(d.split()) for d in shorts)\n",
        "\n",
        "    print('percentile {} of length of news: {}'.format(prct,np.percentile(length_longs, prct)))\n",
        "    print('longest sentence: ', max(length_longs))\n",
        "    print()\n",
        "    print('percentile {} of length of summaries: {}'.format(prct,np.percentile(length_shorts, prct)))\n",
        "    print('longest sentence: ', max(length_shorts))\n",
        "    print()\n",
        "    return int(np.percentile(length_longs, prct)),int(np.percentile(length_shorts, prct))\n",
        "\n",
        "# selecting sentence length based on the percentile of data that fits in the length\n",
        "max_len_news, max_len_summary= max_length(summaries_train.to_list(), longreview_train.to_list(), 90)\n",
        "\n",
        "\n",
        "print('max-length longreview chosen for training: ', max_len_news)\n",
        "print('max-length summaries chosen for training: ', max_len_summary)"
      ],
      "execution_count": null,
      "outputs": [
        {
          "output_type": "stream",
          "name": "stdout",
          "text": [
            "percentile 90 of length of news: 649.0\n",
            "longest sentence:  1274\n",
            "\n",
            "percentile 90 of length of summaries: 57.0\n",
            "longest sentence:  108\n",
            "\n",
            "max-length longreview chosen for training:  649\n",
            "max-length summaries chosen for training:  57\n"
          ]
        }
      ]
    },
    {
      "cell_type": "code",
      "metadata": {
        "id": "R7QdJ6izl44p"
      },
      "source": [
        "# making a vocabulary of the words \n",
        "def create_vocab(shorts, longs = None, minimum_repeat = 3):\n",
        "\n",
        "    # Create a list of all the captions\n",
        "    all_captions = []\n",
        "    for s in shorts:\n",
        "        all_captions.append(s)\n",
        "\n",
        "    # Consider only words which occur at least minimum_occurrence times in the corpus\n",
        "    word_counts = {}\n",
        "    nsents = 0\n",
        "    for sent in all_captions:\n",
        "        nsents += 1\n",
        "        for w in sent.split(' '):\n",
        "            word_counts[w] = word_counts.get(w, 0) + 1\n",
        "\n",
        "    vocab = [w for w in word_counts if word_counts[w] >= minimum_repeat]\n",
        "    \n",
        "    vocab = list(set(vocab))\n",
        "    return vocab"
      ],
      "execution_count": null,
      "outputs": []
    },
    {
      "cell_type": "code",
      "metadata": {
        "colab": {
          "base_uri": "https://localhost:8080/"
        },
        "id": "XgjI1REEmAzU",
        "outputId": "fa6d3bf3-9a91-4ee7-e1ff-f0140a5d8a92"
      },
      "source": [
        "# each word in the vocabulary must be used in the data atleast minimum_repeat times\n",
        "vocab_dec = create_vocab(summaries_train.to_list(), minimum_repeat=5) # here we just use the words in vocabulary of summaries\n",
        "# removing one character words from vocab except for 'a'\n",
        "for v in vocab_dec:\n",
        "    if len(v) == 1 and v!='a' and v!='i':\n",
        "        vocab_dec.remove(v) \n",
        "        \n",
        "vocab_dec = sorted(vocab_dec)[1:] # [1:] is for the '' \n",
        "vocab_dec[:10]"
      ],
      "execution_count": null,
      "outputs": [
        {
          "output_type": "execute_result",
          "data": {
            "text/plain": [
              "['#bringbackourgirls',\n",
              " '$1',\n",
              " '$1,000',\n",
              " '$1,200',\n",
              " '$1,500',\n",
              " '$1.1',\n",
              " '$1.2',\n",
              " '$1.25',\n",
              " '$1.3',\n",
              " '$1.4']"
            ]
          },
          "metadata": {},
          "execution_count": 25
        }
      ]
    },
    {
      "cell_type": "markdown",
      "metadata": {
        "id": "vRN7fmVwZm6Y"
      },
      "source": [
        "Tokenization"
      ]
    },
    {
      "cell_type": "code",
      "metadata": {
        "colab": {
          "base_uri": "https://localhost:8080/"
        },
        "id": "mPbPJnCumN1N",
        "outputId": "9f8ae9c9-a671-4e1f-d24b-04355052e300"
      },
      "source": [
        "oov_token = '<UNK>'\n",
        "filters = '!\"#$%&()*+,-./:;=?@[\\\\]^_`{|}~\\t\\n' # making sure all the last non digit non alphabet chars are removed\n",
        "document_tokenizer = krs.preprocessing.text.Tokenizer(filters = filters,oov_token=oov_token)\n",
        "summary_tokenizer = krs.preprocessing.text.Tokenizer(filters = filters,oov_token=oov_token)\n",
        "document_tokenizer.fit_on_texts(vocab_enc)\n",
        "summary_tokenizer.fit_on_texts(vocab_dec)\n",
        "\n",
        "# caculating number of words in vocabulary of encoder and decoder\n",
        "# they are important for positional encoding\n",
        "encoder_vocab_size = len(document_tokenizer.word_index) + 1 \n",
        "decoder_vocab_size = len(summary_tokenizer.word_index) + 1\n",
        "\n",
        "# vocab_size\n",
        "encoder_vocab_size, decoder_vocab_size"
      ],
      "execution_count": null,
      "outputs": [
        {
          "output_type": "execute_result",
          "data": {
            "text/plain": [
              "(109587, 24239)"
            ]
          },
          "metadata": {},
          "execution_count": 27
        }
      ]
    },
    {
      "cell_type": "markdown",
      "metadata": {
        "id": "KtqNtdhsaRYQ"
      },
      "source": [
        "create index to word dictionary"
      ]
    },
    {
      "cell_type": "code",
      "metadata": {
        "id": "vkKBglqVmR4l"
      },
      "source": [
        "ixtoword_enc = {} # index to word dic\n",
        "ixtoword_dec = {} # index to word dic\n",
        "\n",
        "wordtoix_enc = document_tokenizer.word_index # word to index dic\n",
        "ixtoword_enc[0] = '<PAD0>' # no word in vocab has index 0. but padding is indicated with 0\n",
        "ixtoword_dec[0] = '<PAD0>' # no word in vocab has index 0. but padding is indicated with 0\n",
        "\n",
        "for w in document_tokenizer.word_index:\n",
        "    ixtoword_enc[document_tokenizer.word_index[w]] = w\n",
        "################################################\n",
        "wordtoix_dec = summary_tokenizer.word_index # word to index dic\n",
        "\n",
        "for w in summary_tokenizer.word_index:\n",
        "    ixtoword_dec[summary_tokenizer.word_index[w]] = w"
      ],
      "execution_count": null,
      "outputs": []
    },
    {
      "cell_type": "code",
      "metadata": {
        "id": "VgGIeEGnmVpO"
      },
      "source": [
        "# assign a number to each word inorder to find it in word embeddings\n",
        "inputs = document_tokenizer.texts_to_sequences(longreview_train)\n",
        "targets = summary_tokenizer.texts_to_sequences(summaries_train)\n",
        "inputs_val = document_tokenizer.texts_to_sequences(longreview_val)\n",
        "targets_val = summary_tokenizer.texts_to_sequences(summaries_val)"
      ],
      "execution_count": null,
      "outputs": []
    },
    {
      "cell_type": "markdown",
      "metadata": {
        "id": "VWe7POmObq_f"
      },
      "source": [
        "Padding upto the maxlen"
      ]
    },
    {
      "cell_type": "code",
      "metadata": {
        "id": "k5pM-aFlmbAv"
      },
      "source": [
        "inputs = krs.preprocessing.sequence.pad_sequences(inputs, maxlen=max_len_news, padding='post', truncating='post')\n",
        "targets = krs.preprocessing.sequence.pad_sequences(targets, maxlen=max_len_summary, padding='post', truncating='post')\n",
        "inputs_val = krs.preprocessing.sequence.pad_sequences(inputs_val, maxlen=max_len_news, padding='post', truncating='post')\n",
        "targets_val = krs.preprocessing.sequence.pad_sequences(targets_val, maxlen=max_len_summary, padding='post', truncating='post')"
      ],
      "execution_count": null,
      "outputs": []
    },
    {
      "cell_type": "markdown",
      "metadata": {
        "id": "0bmdh0d9bnbs"
      },
      "source": [
        "Shuffling and create batch from the training dataset"
      ]
    },
    {
      "cell_type": "code",
      "metadata": {
        "id": "cH_r8kAxmdjM"
      },
      "source": [
        "#BUFFER_SIZE = 20000\n",
        "#BATCH_SIZE = 64\n",
        "#embedding_dim = 50 # first it was 200\n",
        "\n",
        "dataset = tf.data.Dataset.from_tensor_slices((inputs,targets)).shuffle(BUFFER_SIZE).batch(BATCH_SIZE)\n",
        "dataset_val = tf.data.Dataset.from_tensor_slices((inputs_val,targets_val)).shuffle(BUFFER_SIZE).batch(BATCH_SIZE*2)"
      ],
      "execution_count": null,
      "outputs": []
    },
    {
      "cell_type": "code",
      "metadata": {
        "id": "7FRTF7armizR"
      },
      "source": [
        "\n",
        "longreview_val.reset_index(inplace=True, drop=True)\n",
        "summaries_val.reset_index(inplace=True, drop=True)\n",
        "longreview_train.reset_index(inplace=True, drop=True)\n",
        "summaries_train.reset_index(inplace=True, drop=True)"
      ],
      "execution_count": null,
      "outputs": []
    },
    {
      "cell_type": "markdown",
      "metadata": {
        "id": "NNxLXFC_b1ow"
      },
      "source": [
        "Plot loss graph in each epoch"
      ]
    },
    {
      "cell_type": "code",
      "metadata": {
        "id": "HF2bgxT7mmj8"
      },
      "source": [
        "import matplotlib.pyplot as plt\n",
        "#graph to plot thr loss in each epoch\n",
        "def hist(history):\n",
        "    plt.title('Loss')\n",
        "\n",
        "    x= [i[0] for i in history['val']]\n",
        "    y=[i[1] for i in history['val']]\n",
        "    plt.plot(x,y,'x-')\n",
        "    \n",
        "    x= [i[0] for i in history['train']]\n",
        "    y=[i[1] for i in history['train']]    \n",
        "    plt.plot(x,y,'o-')\n",
        "\n",
        "    plt.legend(['validation','train'])\n",
        "    plt.show()\n",
        "    print('smallest val loss:', sorted(history['val'],key=lambda x: x[1])[0])"
      ],
      "execution_count": null,
      "outputs": []
    },
    {
      "cell_type": "markdown",
      "metadata": {
        "id": "z8alduPIcEed"
      },
      "source": [
        "Scaled dot product attention"
      ]
    },
    {
      "cell_type": "code",
      "metadata": {
        "id": "fTCV80Owmo7g"
      },
      "source": [
        "\n",
        "#Scaled dot product attention\n",
        "#The attention function used by the transformer takes three inputs: Q (query), K (key), V (value). The equation used to calculate the attention weights is:\n",
        "#This is done because for large values of depth, the dot product grows large in magnitude pushing the \n",
        "#softmax function where it has small gradients resulting in a very hard softmax.\n",
        "#attention(Q,K,V)=softmax((QK^T)/(dk)^0.5)*V   // dk==variance\n",
        "def scaled_dot_product_attention(q, k, v, mask):\n",
        "    matmul_qk = tf.matmul(q, k, transpose_b=True)\n",
        "\n",
        "    dk = tf.cast(tf.shape(k)[-1], tf.float32)\n",
        "    scaled_attention_logits = matmul_qk / tf.math.sqrt(dk)\n",
        "\n",
        "    if mask is not None:\n",
        "        scaled_attention_logits += (mask * -1e9)  \n",
        "\n",
        "    attention_weights = tf.nn.softmax(scaled_attention_logits, axis=-1)\n",
        "\n",
        "    output = tf.matmul(attention_weights, v)\n",
        "    return output, attention_weights"
      ],
      "execution_count": null,
      "outputs": []
    },
    {
      "cell_type": "markdown",
      "metadata": {
        "id": "xiFd5ucrcPvW"
      },
      "source": [
        "Multi-headed attention"
      ]
    },
    {
      "cell_type": "code",
      "metadata": {
        "id": "ZsbFkR5bmqu4"
      },
      "source": [
        "class MultiHeadAttention(krs.layers.Layer):\n",
        "    def __init__(self, d_model, num_heads):\n",
        "        super(MultiHeadAttention, self).__init__()\n",
        "        self.num_heads = num_heads\n",
        "        self.d_model = d_model\n",
        "\n",
        "        assert d_model % self.num_heads == 0\n",
        "\n",
        "        self.depth = d_model // self.num_heads # The dimensions of Q, K, V are called depth\n",
        "\n",
        "        # the input of these 3 layers are the same: X\n",
        "        self.wq = krs.layers.Dense(d_model,kernel_regularizer=krs.regularizers.l2(l=lmbda_l2))\n",
        "        self.wk = krs.layers.Dense(d_model,kernel_regularizer=krs.regularizers.l2(l=lmbda_l2))\n",
        "        self.wv = krs.layers.Dense(d_model,kernel_regularizer=krs.regularizers.l2(l=lmbda_l2))\n",
        "\n",
        "        self.dense = tf.keras.layers.Dense(d_model,kernel_regularizer=krs.regularizers.l2(l=lmbda_l2))\n",
        "    \n",
        "    # reshape the Q,K,V \n",
        "    def split_heads(self, x, batch_size):\n",
        "        x = tf.reshape(x, (batch_size, -1, self.num_heads, self.depth))\n",
        "        return tf.transpose(x, perm=[0, 2, 1, 3])\n",
        "    \n",
        "    def call(self, v, k, q, mask):\n",
        "        batch_size = tf.shape(q)[0]\n",
        "        \n",
        "        # learn the Q,K,V matrices (the layers' weightes)\n",
        "        q = self.wq(q)\n",
        "        k = self.wk(k)\n",
        "        v = self.wv(v)\n",
        "        # reshape them\n",
        "        q = self.split_heads(q, batch_size)\n",
        "        k = self.split_heads(k, batch_size)\n",
        "        v = self.split_heads(v, batch_size)\n",
        "\n",
        "        scaled_attention, attention_weights = scaled_dot_product_attention(\n",
        "            q, k, v, mask)\n",
        "\n",
        "        scaled_attention = tf.transpose(scaled_attention, perm=[0, 2, 1, 3])\n",
        "        \n",
        "        # the last dens layer expect one vector so we use concat\n",
        "        concat_attention = tf.reshape(scaled_attention, (batch_size, -1, self.d_model))\n",
        "        output = self.dense(concat_attention)\n",
        "            \n",
        "        return output, attention_weights"
      ],
      "execution_count": null,
      "outputs": []
    },
    {
      "cell_type": "markdown",
      "metadata": {
        "id": "29UJFQW8eVoe"
      },
      "source": [
        "Positional Encoding"
      ]
    },
    {
      "cell_type": "code",
      "metadata": {
        "id": "A2aDCxbAmvsK"
      },
      "source": [
        "def get_angles(position, i, d_model):\n",
        "    angle_rates = 1 / np.power(10000, (2 * (i // 2)) / np.float32(d_model))\n",
        "    return position * angle_rates\n",
        "\n",
        "# The dimension of positional encodings is the same as\n",
        "# the embeddings (d_model) for facilitating the summation of both.\n",
        "def positional_encoding(position, d_model):\n",
        "    angle_rads = get_angles(\n",
        "        np.arange(position)[:, np.newaxis],\n",
        "        np.arange(d_model)[np.newaxis, :],\n",
        "        d_model\n",
        "    )\n",
        "\n",
        "    # apply sin to even indices in the array; 2i\n",
        "    angle_rads[:, 0::2] = np.sin(angle_rads[:, 0::2])\n",
        "\n",
        "    # apply cos to odd indices in the array; 2i+1\n",
        "    angle_rads[:, 1::2] = np.cos(angle_rads[:, 1::2])\n",
        "\n",
        "    pos_encoding = angle_rads[np.newaxis, ...]\n",
        "\n",
        "    return tf.cast(pos_encoding, dtype=tf.float32)"
      ],
      "execution_count": null,
      "outputs": []
    },
    {
      "cell_type": "markdown",
      "metadata": {
        "id": "AcGN0dfVgwfs"
      },
      "source": [
        "Creation of embedding matrix"
      ]
    },
    {
      "cell_type": "code",
      "metadata": {
        "colab": {
          "base_uri": "https://localhost:8080/"
        },
        "id": "dkqtOR0MmxqT",
        "outputId": "ecf80a86-2b56-447c-9830-dd01a9c6fe47"
      },
      "source": [
        "# Making the embedding mtrix\n",
        "def make_embedding_layer(vocab_len, wordtoix, embedding_dim=200, glove=True, glove_path= '../glove'):\n",
        "    if glove == False:\n",
        "        print('Just a zero matrix loaded')\n",
        "        embedding_matrix = np.zeros((vocab_len, embedding_dim)) # just a zero matrix \n",
        "    else:\n",
        "        print('Loading glove...')\n",
        "        glove_dir = glove_path\n",
        "        embeddings_index = {} \n",
        "        f = open('/content/drive/My Drive/glove.6B.50d.txt', encoding=\"utf-8\")\n",
        "        for line in f:\n",
        "            values = line.split()\n",
        "            word = values[0]\n",
        "            coefs = np.asarray(values[1:], dtype='float32')\n",
        "            embeddings_index[word] = coefs\n",
        "        f.close()\n",
        "        # Get n-dim dense vector for each of the vocab_rocc\n",
        "        embedding_matrix = np.zeros((vocab_len, embedding_dim)) # to import as weights for Keras Embedding layer\n",
        "        for word, i in wordtoix.items():\n",
        "            embedding_vector = embeddings_index.get(word)\n",
        "            if embedding_vector is not None:\n",
        "                # Words not found in the embedding index will be all zeros\n",
        "                embedding_matrix[i] = embedding_vector\n",
        "        \n",
        "        print(\"GloVe \",embedding_dim, ' loaded!')\n",
        "\n",
        "    embedding_layer = Embedding(vocab_len, embedding_dim, mask_zero=True, trainable=False) # we have a limited vocab so we \n",
        "                                                                                           # do not train the embedding layer\n",
        "                                                                                           # we use 0 as padding so => mask_zero=True\n",
        "    embedding_layer.build((None,))\n",
        "    embedding_layer.set_weights([embedding_matrix])\n",
        "    return embedding_layer\n",
        "embeddings_encoder = make_embedding_layer(encoder_vocab_size, wordtoix_enc, embedding_dim=embedding_dim, glove=True)\n",
        "embeddings_decoder = make_embedding_layer(decoder_vocab_size, wordtoix_dec, embedding_dim=embedding_dim, glove=True)"
      ],
      "execution_count": null,
      "outputs": [
        {
          "output_type": "stream",
          "name": "stdout",
          "text": [
            "Loading glove...\n",
            "GloVe  50  loaded!\n",
            "Loading glove...\n",
            "GloVe  50  loaded!\n"
          ]
        }
      ]
    },
    {
      "cell_type": "code",
      "metadata": {
        "id": "gfsv2Br5nDty"
      },
      "source": [
        "# hyper-params\n",
        "init_lr = 1e-3\n",
        "lmbda_l2 = 0.1\n",
        "d_out_rate = 0.1 \n",
        "num_layers = 4 \n",
        "d_model = embedding_dim # d_model is the representation dimension or embedding dimension of a word (usually in the range 128–512)\n",
        "dff = 512 # number of neurons in feed forward network\n",
        "num_heads = 5 "
      ],
      "execution_count": null,
      "outputs": []
    },
    {
      "cell_type": "markdown",
      "metadata": {
        "id": "k4AFu1uEhpb2"
      },
      "source": [
        "POINT WISE FEED FORWARD NEURAL NETWORK"
      ]
    },
    {
      "cell_type": "code",
      "metadata": {
        "id": "9yROL2u3nHWJ"
      },
      "source": [
        "\n",
        "\n",
        "# The Point-wise feed-forward network block is essentially a \n",
        "# two-layer linear transformation which is used identically throughout the model\n",
        "#Point wise feed forward network consists of two fully-connected layers with a ReLU activation in between.\n",
        "def point_wise_feed_forward_network(d_model, dff):\n",
        "    return krs.Sequential([\n",
        "        krs.layers.Dense(dff, activation='relu',kernel_regularizer=krs.regularizers.l2(l=lmbda_l2)),\n",
        "        krs.layers.Dense(d_model,kernel_regularizer=krs.regularizers.l2(l=lmbda_l2))\n",
        "    ])"
      ],
      "execution_count": null,
      "outputs": []
    },
    {
      "cell_type": "code",
      "metadata": {
        "id": "n8ZODLPTnZOq"
      },
      "source": [
        "class EncoderLayer(krs.layers.Layer):\n",
        "    def __init__(self, d_model, num_heads, dff, rate=d_out_rate):\n",
        "        super(EncoderLayer, self).__init__()\n",
        "\n",
        "        self.mha = MultiHeadAttention(d_model, num_heads)\n",
        "        self.ffn = point_wise_feed_forward_network(d_model, dff)\n",
        "\n",
        "        self.layernorm1 = krs.layers.LayerNormalization(epsilon=1e-6)\n",
        "        self.layernorm2 = krs.layers.LayerNormalization(epsilon=1e-6)\n",
        "\n",
        "        self.dropout1 = krs.layers.Dropout(rate)\n",
        "        self.dropout2 = krs.layers.Dropout(rate)\n",
        "   \n",
        "    # it has 1 layer of multi-headed attention\n",
        "    def call(self, x, training, mask):\n",
        "        attn_output, _ = self.mha(x, x, x, mask)\n",
        "        attn_output = self.dropout1(attn_output, training=training)\n",
        "        out1 = self.layernorm1(x + attn_output)\n",
        "\n",
        "        ffn_output = self.ffn(out1)\n",
        "        ffn_output = self.dropout2(ffn_output, training=training)\n",
        "        out2 = self.layernorm2(out1 + ffn_output)\n",
        "\n",
        "        return out2"
      ],
      "execution_count": null,
      "outputs": []
    },
    {
      "cell_type": "code",
      "metadata": {
        "id": "KoAqWypcnb-4"
      },
      "source": [
        "class DecoderLayer(krs.layers.Layer):\n",
        "    def __init__(self, d_model, num_heads, dff, rate=d_out_rate):\n",
        "        super(DecoderLayer, self).__init__()\n",
        "\n",
        "        self.mha1 = MultiHeadAttention(d_model, num_heads)\n",
        "        self.mha2 = MultiHeadAttention(d_model, num_heads)\n",
        "\n",
        "        self.ffn = point_wise_feed_forward_network(d_model, dff)\n",
        "\n",
        "        self.layernorm1 = krs.layers.LayerNormalization(epsilon=1e-6)\n",
        "        self.layernorm2 = krs.layers.LayerNormalization(epsilon=1e-6)\n",
        "        self.layernorm3 = krs.layers.LayerNormalization(epsilon=1e-6)\n",
        "\n",
        "        self.dropout1 = krs.layers.Dropout(rate)\n",
        "        self.dropout2 = krs.layers.Dropout(rate)\n",
        "        self.dropout3 = krs.layers.Dropout(rate)\n",
        "    \n",
        "    # it has 2 layers of multi-headed attention\n",
        "    def call(self, x, enc_output, training, look_ahead_mask, padding_mask):\n",
        "        attn1, attn_weights_block1 = self.mha1(x, x, x, look_ahead_mask)\n",
        "        attn1 = self.dropout1(attn1, training=training)\n",
        "        out1 = self.layernorm1(attn1 + x)\n",
        "\n",
        "        attn2, attn_weights_block2 = self.mha2(enc_output, enc_output, out1, padding_mask)\n",
        "        attn2 = self.dropout2(attn2, training=training)\n",
        "        out2 = self.layernorm2(attn2 + out1)\n",
        "\n",
        "        ffn_output = self.ffn(out2)\n",
        "        ffn_output = self.dropout3(ffn_output, training=training)\n",
        "        out3 = self.layernorm3(ffn_output + out2)\n",
        "\n",
        "        return out3, attn_weights_block1, attn_weights_block2"
      ],
      "execution_count": null,
      "outputs": []
    },
    {
      "cell_type": "code",
      "metadata": {
        "id": "Yj6VylwJoIky"
      },
      "source": [
        "class Encoder(krs.layers.Layer):\n",
        "    def __init__(self, num_layers, d_model, num_heads, dff, input_vocab_size, maximum_position_encoding, rate=d_out_rate):\n",
        "        super(Encoder, self).__init__()\n",
        "\n",
        "        self.d_model = d_model\n",
        "        self.num_layers = num_layers\n",
        "\n",
        "        self.embedding = embeddings_encoder\n",
        "        self.pos_encoding = positional_encoding(maximum_position_encoding, self.d_model)\n",
        "\n",
        "        self.enc_layers = [EncoderLayer(d_model, num_heads, dff, rate) for _ in range(num_layers)]\n",
        "\n",
        "        self.dropout = krs.layers.Dropout(rate)\n",
        "        self.dropout_embd = krs.layers.Dropout(rate)\n",
        "        \n",
        "    def call(self, x, training, mask):\n",
        "        seq_len = tf.shape(x)[1]\n",
        "\n",
        "        x = self.embedding(x)\n",
        "        x = self.dropout_embd(x, training=training) # dropout added to encoder input changed from nothing to this\n",
        "        x *= tf.math.sqrt(tf.cast(self.d_model, tf.float32))\n",
        "        x += self.pos_encoding[:, :seq_len, :]\n",
        "\n",
        "        x = self.dropout(x, training=training)\n",
        "    \n",
        "        for i in range(self.num_layers):\n",
        "            x = self.enc_layers[i](x, training, mask)\n",
        "    \n",
        "        return x"
      ],
      "execution_count": null,
      "outputs": []
    },
    {
      "cell_type": "code",
      "metadata": {
        "id": "HLJWWTpfoL1h"
      },
      "source": [
        "class Decoder(krs.layers.Layer):\n",
        "    def __init__(self, num_layers, d_model, num_heads, dff, target_vocab_size, maximum_position_encoding, rate=d_out_rate):\n",
        "        super(Decoder, self).__init__()\n",
        "\n",
        "        self.d_model = d_model\n",
        "        self.num_layers = num_layers\n",
        "\n",
        "        self.embedding = embeddings_decoder\n",
        "        self.pos_encoding = positional_encoding(maximum_position_encoding, d_model)\n",
        "\n",
        "        self.dec_layers = [DecoderLayer(d_model, num_heads, dff, rate) for _ in range(num_layers)] # a list of decoder layers\n",
        "        self.dropout = krs.layers.Dropout(rate)\n",
        "    \n",
        "    def call(self, x, enc_output, training, look_ahead_mask, padding_mask):\n",
        "        seq_len = tf.shape(x)[1]\n",
        "        attention_weights = {}\n",
        "\n",
        "        x = self.embedding(x)\n",
        "        x *= tf.math.sqrt(tf.cast(self.d_model, tf.float32))\n",
        "        x += self.pos_encoding[:, :seq_len, :]\n",
        "\n",
        "        x = self.dropout(x, training=training)\n",
        "\n",
        "        for i in range(self.num_layers):\n",
        "            x, block1, block2 = self.dec_layers[i](x, enc_output, training, look_ahead_mask, padding_mask) # enc_output is fed into it\n",
        "\n",
        "            attention_weights['decoder_layer{}_block1'.format(i+1)] = block1\n",
        "            attention_weights['decoder_layer{}_block2'.format(i+1)] = block2\n",
        "    \n",
        "        return x, attention_weights"
      ],
      "execution_count": null,
      "outputs": []
    },
    {
      "cell_type": "code",
      "metadata": {
        "id": "v_TK6MDqoOFu"
      },
      "source": [
        "class Transformer(krs.Model):\n",
        "    def __init__(self, num_layers, d_model, num_heads, dff, input_vocab_size,\n",
        "                                     target_vocab_size, pe_input, pe_target, rate=d_out_rate):\n",
        "        super(Transformer, self).__init__()\n",
        "\n",
        "        self.encoder = Encoder(num_layers, d_model, num_heads, dff, input_vocab_size, pe_input, rate)\n",
        "\n",
        "        self.decoder = Decoder(num_layers, d_model, num_heads, dff, target_vocab_size, pe_target, rate)\n",
        "\n",
        "        self.final_layer = krs.layers.Dense(target_vocab_size, kernel_regularizer=krs.regularizers.l2(l=lmbda_l2))\n",
        "        \n",
        "        \n",
        "    # training argument is used in dropout inputs\n",
        "    def call(self, inp, tar, training, enc_padding_mask, look_ahead_mask, dec_padding_mask):\n",
        "        enc_output = self.encoder(inp, training, enc_padding_mask)\n",
        "       \n",
        "        dec_output, attention_weights = self.decoder(tar, enc_output, training, look_ahead_mask, dec_padding_mask)\n",
        "\n",
        "        final_output = self.final_layer(dec_output)\n",
        "\n",
        "        return final_output, attention_weights"
      ],
      "execution_count": null,
      "outputs": []
    },
    {
      "cell_type": "code",
      "metadata": {
        "id": "e5V0MYCXoR4o"
      },
      "source": [
        "transformer = Transformer(\n",
        "    num_layers, \n",
        "    d_model, \n",
        "    num_heads, \n",
        "    dff,\n",
        "    encoder_vocab_size, \n",
        "    decoder_vocab_size, \n",
        "    pe_input=max_len_news,\n",
        "    pe_target=max_len_summary,\n",
        ")"
      ],
      "execution_count": null,
      "outputs": []
    },
    {
      "cell_type": "code",
      "metadata": {
        "id": "XBMd0U7qoTo-"
      },
      "source": [
        "#masking\n",
        "# Padding mask for masking \"pad\" sequences so \n",
        "# they won't affect the loss\n",
        "def create_padding_mask(seq):\n",
        "    seq = tf.cast(tf.math.equal(seq, 0), tf.float32)\n",
        "    return seq[:, tf.newaxis, tf.newaxis, :]\n",
        "\n",
        "# Lookahead mask for masking future words from\n",
        "# contributing in prediction of current words in self attention\n",
        "def create_look_ahead_mask(size):\n",
        "    mask = 1 - tf.linalg.band_part(tf.ones((size, size)), -1, 0)\n",
        "    return mask"
      ],
      "execution_count": null,
      "outputs": []
    },
    {
      "cell_type": "code",
      "metadata": {
        "id": "LSp9tIZOoV1m"
      },
      "source": [
        "# this function is use in training step\n",
        "def create_masks(inp, tar):\n",
        "    enc_padding_mask = create_padding_mask(inp)\n",
        "    dec_padding_mask = create_padding_mask(inp)\n",
        "\n",
        "    look_ahead_mask = create_look_ahead_mask(tf.shape(tar)[1])\n",
        "    dec_target_padding_mask = create_padding_mask(tar)\n",
        "        \n",
        "    combined_mask = tf.maximum(dec_target_padding_mask, look_ahead_mask)\n",
        "  \n",
        "    return enc_padding_mask, combined_mask, dec_padding_mask"
      ],
      "execution_count": null,
      "outputs": []
    },
    {
      "cell_type": "code",
      "metadata": {
        "id": "0ojM6_t7oXud"
      },
      "source": [
        "lr_schedule = krs.optimizers.schedules.ExponentialDecay(\n",
        "    initial_learning_rate=init_lr, \n",
        "    decay_steps=4000, # approximately 5 epochs\n",
        "    decay_rate=0.95) "
      ],
      "execution_count": null,
      "outputs": []
    },
    {
      "cell_type": "code",
      "metadata": {
        "id": "HVQZe7cLoZSI"
      },
      "source": [
        "#Adam optimizer\n",
        "optimizer2 = Adam(lr_schedule , beta_1=0.9, beta_2=0.98, epsilon=1e-9) # changed to init\n",
        "loss_object = SparseCategoricalCrossentropy(from_logits=True, reduction='none') # added softmax changed from_logits to false"
      ],
      "execution_count": null,
      "outputs": []
    },
    {
      "cell_type": "code",
      "metadata": {
        "id": "NwnZbHoiobD3"
      },
      "source": [
        "def loss_function(real, pred, l2= False):\n",
        " \n",
        "    if l2:\n",
        "        lambda_ = 0.0001\n",
        "        l2_norms = [tf.nn.l2_loss(v) for v in transformer.trainable_variables]\n",
        "        l2_norm = tf.reduce_sum(l2_norms)\n",
        "        l2_value = lambda_ * l2_norm\n",
        "        loss_ = loss_object(real, pred) + l2_value\n",
        "    else:\n",
        "        loss_ = loss_object(real, pred) \n",
        "    \n",
        "    mask = tf.math.logical_not(tf.math.equal(real, 0))\n",
        "    mask = tf.cast(mask, dtype=loss_.dtype)\n",
        "    loss_ *= mask\n",
        "    \n",
        "    return tf.reduce_sum(loss_)/tf.reduce_sum(mask)"
      ],
      "execution_count": null,
      "outputs": []
    },
    {
      "cell_type": "code",
      "metadata": {
        "colab": {
          "base_uri": "https://localhost:8080/"
        },
        "id": "QPKvTP0podOV",
        "outputId": "11ed8d3c-9842-490e-ea5f-869dea884e9a"
      },
      "source": [
        "\n",
        "checkpoint_path4 =\"/content/drive/My Drive/checkpoints2\"\n",
        "\n",
        "ckpt4 = tf.train.Checkpoint(transformer=transformer, optimizer=optimizer2)\n",
        "\n",
        "ckpt_manager4 = tf.train.CheckpointManager(ckpt4, checkpoint_path4, max_to_keep=100)\n",
        "print(ckpt_manager4.latest_checkpoint)\n",
        "if ckpt_manager4.latest_checkpoint:\n",
        "  ckpt4.restore(ckpt_manager4.latest_checkpoint)\n",
        "  print ('Latest checkpoint restored!!')"
      ],
      "execution_count": null,
      "outputs": [
        {
          "output_type": "stream",
          "name": "stdout",
          "text": [
            "/content/drive/My Drive/checkpoints2/ckpt-8\n",
            "Latest checkpoint restored!!\n"
          ]
        }
      ]
    },
    {
      "cell_type": "code",
      "metadata": {
        "id": "SOe2LW1yojCw"
      },
      "source": [
        ""
      ],
      "execution_count": null,
      "outputs": []
    },
    {
      "cell_type": "code",
      "metadata": {
        "id": "4k4ZqRHtosQg"
      },
      "source": [
        "def validate():\n",
        "    print('validation started ...')\n",
        "    val_loss.reset_states()\n",
        "    for (batch, (inp, tar)) in enumerate(dataset_val):    \n",
        "        tar_inp = tar[:, :-1] # <startseq> hi im moein\n",
        "        tar_real = tar[:, 1:] # hi im moein <endseq>\n",
        "\n",
        "        enc_padding_mask, combined_mask, dec_padding_mask = create_masks(inp, tar_inp)\n",
        "\n",
        "        # Operations are recorded if they are executed within this context manager\n",
        "        # and at least one of their inputs is being \"watched\". Trainable variables are automatically watched\n",
        "        predictions, _ = transformer(\n",
        "            inp, tar_inp, \n",
        "            False, \n",
        "            enc_padding_mask, \n",
        "            combined_mask, \n",
        "            dec_padding_mask\n",
        "        )\n",
        "        loss = loss_function(tar_real, predictions)\n",
        "        val_loss(loss)\n",
        "    print('\\n* Validation loss: {} '.format(val_loss.result()) )\n",
        "    return val_loss.result()\n",
        "# validate()"
      ],
      "execution_count": null,
      "outputs": []
    },
    {
      "cell_type": "code",
      "metadata": {
        "id": "NlvLrbCcouCp"
      },
      "source": [
        "@tf.function # Compiles a function into a callable TensorFlow graph\n",
        "def train_step(inp, tar):\n",
        "    tar_inp = tar[:, :-1] # <startseq> hi im moein\n",
        "    tar_real = tar[:, 1:] # hi im moein <endseq>\n",
        "\n",
        "    enc_padding_mask, combined_mask, dec_padding_mask = create_masks(inp, tar_inp)\n",
        "    \n",
        "    # Operations are recorded if they are executed within this context manager\n",
        "    # and at least one of their inputs is being \"watched\". Trainable variables are automatically watched\n",
        "    with tf.GradientTape() as tape:\n",
        "        predictions, _ = transformer(\n",
        "            inp, tar_inp, \n",
        "            True, \n",
        "            enc_padding_mask, \n",
        "            combined_mask, \n",
        "            dec_padding_mask\n",
        "        )\n",
        "        loss = loss_function(tar_real, predictions)\n",
        "\n",
        "    gradients = tape.gradient(loss, transformer.trainable_variables)    \n",
        "    optimizer2.apply_gradients(zip(gradients, transformer.trainable_variables))\n",
        "    \n",
        "    # mean the loss with new computed  loss of the step\n",
        "    train_loss(loss)"
      ],
      "execution_count": null,
      "outputs": []
    },
    {
      "cell_type": "code",
      "metadata": {
        "id": "n23xHo1KovjM"
      },
      "source": [
        "history={'val':[],'train':[]}\n",
        "EPOCHS = 300\n",
        "not_progressing = 0\n",
        "# Computes the (weighted) mean of the given loss values.\n",
        "train_loss = krs.metrics.Mean(name='train_loss')\n",
        "val_loss = krs.metrics.Mean(name='val_loss')"
      ],
      "execution_count": null,
      "outputs": []
    },
    {
      "cell_type": "code",
      "metadata": {
        "colab": {
          "base_uri": "https://localhost:8080/"
        },
        "id": "gFlRRBExoxQn",
        "outputId": "5811127f-259c-497c-9b98-52fee21edaf2"
      },
      "source": [
        "params = {\n",
        "'lmbda_l2' : lmbda_l2,\n",
        "'d_out_rate' :d_out_rate,\n",
        "'num_layers' : num_layers ,\n",
        "'d_model' : d_model  ,\n",
        "'dff' : dff ,\n",
        "'num_heads' : num_heads,\n",
        "'init_lr':init_lr}\n",
        "params"
      ],
      "execution_count": null,
      "outputs": [
        {
          "output_type": "execute_result",
          "data": {
            "text/plain": [
              "{'d_model': 50,\n",
              " 'd_out_rate': 0.1,\n",
              " 'dff': 512,\n",
              " 'init_lr': 0.001,\n",
              " 'lmbda_l2': 0.1,\n",
              " 'num_heads': 5,\n",
              " 'num_layers': 4}"
            ]
          },
          "metadata": {},
          "execution_count": 56
        }
      ]
    },
    {
      "cell_type": "code",
      "metadata": {
        "id": "VbCcVrXeozB2"
      },
      "source": [
        "ep = 1\n",
        "best_val_loss = np.inf\n",
        "i1,i2,i3,i4 = np.random.randint(len(summaries_val)),np.random.randint(len(summaries_val)),np.random.randint(len(summaries_val)),np.random.randint(len(summaries_val))"
      ],
      "execution_count": null,
      "outputs": []
    },
    {
      "cell_type": "code",
      "metadata": {
        "id": "iUqJtTD5kgl_"
      },
      "source": [
        "def evaluate(input_document):\n",
        "    input_document = document_tokenizer.texts_to_sequences([input_document])\n",
        "    input_document = krs.preprocessing.sequence.pad_sequences(input_document, maxlen=max_len_news, \n",
        "                                                                           padding='post', truncating='post')\n",
        "    \n",
        "    encoder_input = tf.expand_dims(input_document[0], 0)\n",
        "\n",
        "    decoder_input = [summary_tokenizer.word_index[start_token]]\n",
        "    output = tf.expand_dims(decoder_input, 0)\n",
        "    \n",
        "    for i in range(max_len_summary):\n",
        "        enc_padding_mask, combined_mask, dec_padding_mask = create_masks(encoder_input, output)\n",
        "\n",
        "        predictions, attention_weights = transformer(\n",
        "            encoder_input, \n",
        "            output,\n",
        "            False,\n",
        "            enc_padding_mask,\n",
        "            combined_mask,\n",
        "            dec_padding_mask\n",
        "        )\n",
        "\n",
        "        predictions = predictions[: ,-1:, :]\n",
        "        predicted_id = tf.cast(tf.argmax(predictions, axis=-1), tf.int32)\n",
        "        # stop prediciting if it reached end_token\n",
        "        if predicted_id == summary_tokenizer.word_index[end_token]:\n",
        "            return tf.squeeze(output, axis=0), attention_weights\n",
        "\n",
        "        output = tf.concat([output, predicted_id], axis=-1)\n",
        "    return tf.squeeze(output, axis=0), attention_weights\n",
        "\n",
        "def summarize(input_document):\n",
        "    # not considering attention weights for now, can be used to plot attention heatmaps in the future\n",
        "    summarized = evaluate(input_document=input_document)[0].numpy()\n",
        "    summarized = np.expand_dims(summarized[1:], 0)  # remove start_token\n",
        "    return summary_tokenizer.sequences_to_texts(summarized)[0]  # since there is just one translated docume"
      ],
      "execution_count": null,
      "outputs": []
    },
    {
      "cell_type": "code",
      "metadata": {
        "colab": {
          "base_uri": "https://localhost:8080/",
          "height": 1000
        },
        "id": "-yAIinGdo1rN",
        "outputId": "4c3367d6-2f9e-4531-9019-16e5a445cb7a"
      },
      "source": [
        "print(params)\n",
        "print('#'*40)\n",
        "\n",
        "for epoch in range(ep,EPOCHS+1):\n",
        "    ep = epoch\n",
        "    start = time.time()\n",
        "\n",
        "    train_loss.reset_states()\n",
        "  \n",
        "    for (batch, (inp, tar)) in enumerate(dataset):\n",
        "        \n",
        "        train_step(inp, tar)\n",
        "    \n",
        "        if batch % 150 == 0:\n",
        "            print ('Epoch {} Batch {} Loss {:.4f}'.format(epoch , batch, train_loss.result()))\n",
        "                  \n",
        "    print()\n",
        "    print(summarize(longreview_val[i1]))\n",
        "    print(summarize(longreview_val[i2]))\n",
        "    print(summarize(longreview_val[i3]))\n",
        "    print(summarize(longreview_val[i4]))\n",
        "    print()\n",
        "    \n",
        "    val_loss_ = validate().numpy()\n",
        "    history['val'].append((epoch,val_loss_))\n",
        "    print ('\\n* Train Loss {:.4f}'.format(train_loss.result()))\n",
        "    history['train'].append((epoch,train_loss.result().numpy()))\n",
        "    \n",
        "    \n",
        "    if best_val_loss-val_loss_ > 0.1:\n",
        "        ckpt_save_path4 = ckpt_manager4.save()\n",
        "        print ('\\nSaving checkpoint for epoch {} at {}'.format(epoch, ckpt_save_path4))  \n",
        "        best_val_loss = val_loss_\n",
        "    \n",
        "    hist(history)\n",
        "    print('Current Lr: ',optimizer2._decayed_lr('float32').numpy())\n",
        "    print ('\\nTime taken for this epoch: {:.2f} secs\\n'.format(time.time() - start))\n",
        "    print('='*40)"
      ],
      "execution_count": null,
      "outputs": [
        {
          "metadata": {
            "tags": null
          },
          "name": "stdout",
          "output_type": "stream",
          "text": [
            "{'lmbda_l2': 0.1, 'd_out_rate': 0.1, 'num_layers': 4, 'd_model': 50, 'dff': 512, 'num_heads': 5, 'init_lr': 0.001}\n",
            "########################################\n",
            "Epoch 1 Batch 0 Loss 10.0958\n",
            "Epoch 1 Batch 150 Loss 8.0584\n",
            "Epoch 1 Batch 300 Loss 7.7063\n",
            "Epoch 1 Batch 450 Loss 7.4833\n",
            "Epoch 1 Batch 600 Loss 7.3081\n",
            "Epoch 1 Batch 750 Loss 7.1690\n",
            "Epoch 1 Batch 900 Loss 7.0579\n",
            "Epoch 1 Batch 1050 Loss 6.9638\n",
            "Epoch 1 Batch 1200 Loss 6.8853\n",
            "\n",
            "rafael federer beats djokovic djokovic djokovic djokovic beats djokovic djokovic djokovic djokovic djokovic djokovic in the world cup in the world cup in the world cup in the world cup in the world cup in the world cup in the world cup in the world cup in the world cup in the world cup in the world\n",
            "<UNK> <UNK> is the world cup in the world cup in the world cup in the world cup in the world cup in the world cup in the world cup in the world cup in the world cup in the world cup in the world cup in the world cup in the world cup in the world\n",
            "rafael federer wins the world cup champion champion champion champion champion champion champion champion champion champion champion champion djokovic beats djokovic beats djokovic in the world cup in the world cup in the world cup in the world cup in the world cup in the world cup in the world cup in the world cup in the\n",
            "new the <UNK> is a <UNK> <UNK> <UNK> <UNK> <UNK> <UNK> <UNK> <UNK> <UNK> <UNK> <UNK> <UNK> <UNK> <UNK> <UNK> <UNK> <UNK> <UNK> <UNK> <UNK> <UNK> <UNK> <UNK> <UNK> <UNK> <UNK> <UNK> <UNK> <UNK> <UNK> <UNK> <UNK> <UNK> <UNK> <UNK> <UNK> <UNK> <UNK> <UNK> <UNK> <UNK> <UNK> <UNK> <UNK> <UNK> <UNK> <UNK> <UNK> <UNK> <UNK> <UNK> <UNK>\n",
            "\n",
            "validation started ...\n",
            "\n",
            "* Validation loss: 6.177144527435303 \n",
            "\n",
            "* Train Loss 6.8539\n",
            "\n",
            "Saving checkpoint for epoch 1 at /content/drive/My Drive/checkpoints1/ckpt-1\n"
          ]
        },
        {
          "data": {
            "image/png": "[encoded data removed]",
            "text/plain": [
              "<Figure size 432x288 with 1 Axes>"
            ]
          },
          "metadata": {},
          "output_type": "display_data"
        },
        {
          "metadata": {
            "tags": null
          },
          "name": "stdout",
          "output_type": "stream",
          "text": [
            "smallest val loss: (1, 6.1771445)\n",
            "Current Lr:  0.0009838715\n",
            "\n",
            "Time taken for this epoch: 1278.47 secs\n",
            "\n",
            "========================================\n",
            "Epoch 2 Batch 0 Loss 6.2366\n",
            "Epoch 2 Batch 150 Loss 6.2341\n",
            "Epoch 2 Batch 300 Loss 6.2029\n",
            "Epoch 2 Batch 450 Loss 6.1768\n",
            "Epoch 2 Batch 600 Loss 6.1583\n",
            "Epoch 2 Batch 750 Loss 6.1359\n",
            "Epoch 2 Batch 900 Loss 6.1179\n",
            "Epoch 2 Batch 1050 Loss 6.1028\n",
            "Epoch 2 Batch 1200 Loss 6.0862\n",
            "\n",
            "novak djokovic beats novak djokovic beats novak djokovic in the final of the final of the final of the final of the final of the final of the final of the final of the final of the final of the final of the final of the final of the final of the final of the final of\n",
            "the world cup of the world cup is the world cup the world cup the world cup of the world cup the world cup is the world cup in the world cup the world cup in the world cup the world cup in the world cup the world cup the world cup is the world cup in\n",
            "novak djokovic beats novak djokovic beats novak djokovic in the final of the final of the final of the final of the final of the final of the final of the final of the final of the final of the final of the final of the final of the final of the final of the final of\n",
            "the united states states have been a <UNK> in the world largest <UNK> <UNK> <UNK> <UNK> <UNK> <UNK> is a <UNK> <UNK> <UNK> <UNK> <UNK> <UNK> is a <UNK> <UNK> <UNK> <UNK> <UNK> <UNK> <UNK> is the <UNK>\n",
            "\n",
            "validation started ...\n",
            "\n",
            "* Validation loss: 5.84300422668457 \n",
            "\n",
            "* Train Loss 6.0802\n",
            "\n",
            "Saving checkpoint for epoch 2 at /content/drive/My Drive/checkpoints1/ckpt-2\n"
          ]
        },
        {
          "data": {
            "image/png": "[encoded data removed]",
            "text/plain": [
              "<Figure size 432x288 with 1 Axes>"
            ]
          },
          "metadata": {},
          "output_type": "display_data"
        },
        {
          "metadata": {
            "tags": null
          },
          "name": "stdout",
          "output_type": "stream",
          "text": [
            "smallest val loss: (2, 5.843004)\n",
            "Current Lr:  0.0009680031\n",
            "\n",
            "Time taken for this epoch: 1254.52 secs\n",
            "\n",
            "========================================\n",
            "Epoch 3 Batch 0 Loss 6.0579\n",
            "Epoch 3 Batch 150 Loss 5.9153\n",
            "Epoch 3 Batch 300 Loss 5.9090\n",
            "Epoch 3 Batch 450 Loss 5.8981\n",
            "Epoch 3 Batch 600 Loss 5.8871\n",
            "Epoch 3 Batch 750 Loss 5.8778\n",
            "Epoch 3 Batch 900 Loss 5.8697\n",
            "Epoch 3 Batch 1050 Loss 5.8602\n",
            "Epoch 3 Batch 1200 Loss 5.8523\n",
            "\n",
            "rafael nadal beats roger federer in the semifinals in the semifinals in the semifinals in the semifinals in the semifinals in the semifinals federer beats roger federer in the semifinals federer beats roger federer in the semifinals in the semifinals\n",
            "<UNK> <UNK> is the first time to win the world cup the world cup world cup is the world cup world cup world cup in the world cup the world cup the world cup is the world cup cup cup in the world cup\n",
            "rafael nadal beats roger federer in the semifinals in the semifinals in the semifinals in the semifinals in the semifinals in the semifinals federer beats roger federer in the semifinals federer beats roger federer in the semifinals in the semifinals\n",
            "<UNK> <UNK> is a <UNK> <UNK> <UNK> <UNK> <UNK> <UNK> <UNK> <UNK> is a <UNK> <UNK> <UNK> <UNK> <UNK> <UNK> <UNK> is a <UNK> <UNK> <UNK> <UNK> <UNK> <UNK> <UNK> <UNK> <UNK> is a <UNK> <UNK> <UNK> <UNK> <UNK> <UNK> <UNK> <UNK> <UNK> <UNK> is a <UNK>\n",
            "\n",
            "validation started ...\n",
            "\n",
            "* Validation loss: 5.694253921508789 \n",
            "\n",
            "* Train Loss 5.8503\n",
            "\n",
            "Saving checkpoint for epoch 3 at /content/drive/My Drive/checkpoints1/ckpt-3\n"
          ]
        },
        {
          "data": {
            "image/png": "[encoded data removed]",
            "text/plain": [
              "<Figure size 432x288 with 1 Axes>"
            ]
          },
          "metadata": {},
          "output_type": "display_data"
        },
        {
          "metadata": {
            "tags": null
          },
          "name": "stdout",
          "output_type": "stream",
          "text": [
            "smallest val loss: (3, 5.694254)\n",
            "Current Lr:  0.0009523907\n",
            "\n",
            "Time taken for this epoch: 1243.50 secs\n",
            "\n",
            "========================================\n",
            "Epoch 4 Batch 0 Loss 5.5086\n",
            "Epoch 4 Batch 150 Loss 5.7599\n",
            "Epoch 4 Batch 300 Loss 5.7497\n",
            "Epoch 4 Batch 450 Loss 5.7427\n",
            "Epoch 4 Batch 600 Loss 5.7399\n",
            "Epoch 4 Batch 750 Loss 5.7358\n",
            "Epoch 4 Batch 900 Loss 5.7308\n",
            "Epoch 4 Batch 1050 Loss 5.7269\n",
            "Epoch 4 Batch 1200 Loss 5.7217\n",
            "\n",
            "novak djokovic beats novak djokovic in the semifinals of the semifinals of the semifinals of the semifinals of the semifinals of the semifinals of the semifinals of the semifinals of the semifinals of the semifinals of the semifinals djokovic beats novak djokovic in the semifinals\n",
            "<UNK> <UNK> is the first world cup of the world cup of the world cup the world cup the world cup is the first time in the world cup the world cup the world cup the world cup is the first time in the world cup the world cup the world cup\n",
            "novak djokovic beats novak djokovic in the final of the semifinals of the final of the semifinals of the semifinals of the semifinals in the semifinals of the semifinals of the semifinals of the semifinals in the semifinals of the semifinals djokovic beats novak djokovic in the semifinals\n",
            "<UNK> <UNK> is a <UNK> <UNK> <UNK> <UNK> <UNK> <UNK> <UNK> <UNK> <UNK> is a <UNK> <UNK> <UNK> <UNK> <UNK> <UNK> <UNK> <UNK> <UNK> <UNK> is a <UNK> <UNK> <UNK> <UNK> <UNK> <UNK> <UNK> <UNK> <UNK> <UNK> <UNK> is a <UNK> <UNK> <UNK> <UNK> <UNK> <UNK>\n",
            "\n",
            "validation started ...\n",
            "\n",
            "* Validation loss: 5.598875999450684 \n",
            "\n",
            "* Train Loss 5.7214\n"
          ]
        },
        {
          "data": {
            "image/png": "[encoded data removed]",
            "text/plain": [
              "<Figure size 432x288 with 1 Axes>"
            ]
          },
          "metadata": {},
          "output_type": "display_data"
        },
        {
          "metadata": {
            "tags": null
          },
          "name": "stdout",
          "output_type": "stream",
          "text": [
            "smallest val loss: (4, 5.598876)\n",
            "Current Lr:  0.00093703007\n",
            "\n",
            "Time taken for this epoch: 1248.22 secs\n",
            "\n",
            "========================================\n",
            "Epoch 5 Batch 0 Loss 5.7609\n",
            "Epoch 5 Batch 150 Loss 5.6541\n",
            "Epoch 5 Batch 300 Loss 5.6539\n",
            "Epoch 5 Batch 450 Loss 5.6508\n",
            "Epoch 5 Batch 600 Loss 5.6489\n",
            "Epoch 5 Batch 750 Loss 5.6466\n",
            "Epoch 5 Batch 900 Loss 5.6457\n",
            "Epoch 5 Batch 1050 Loss 5.6433\n",
            "Epoch 5 Batch 1200 Loss 5.6422\n",
            "\n",
            "novak djokovic beats novak djokovic in the world no 1 novak djokovic in the world no 1 novak djokovic beats novak djokovic in the world no 1 novak djokovic in the world no 1 novak djokovic in the world no 1 novak djokovic and novak djokovic in the last eight time\n",
            "<UNK> <UNK> is the first time to compete in the world cup the world cup the world cup is the first time to compete in the world cup the world cup the world cup the world cup is the first time to compete in the world cup\n",
            "novak djokovic beats novak djokovic in the world no 1 novak djokovic in the world no 1 novak djokovic beats novak djokovic in the world no 1 novak djokovic in the world no 1 novak djokovic in the world no 1 novak djokovic and novak djokovic in the world no 1 novak djokovic and novak djokovic in\n",
            "the <UNK> is a <UNK> <UNK> <UNK> <UNK> <UNK> <UNK> is a <UNK> <UNK> <UNK> <UNK> <UNK> <UNK> is a <UNK> <UNK> <UNK> <UNK> <UNK> <UNK> <UNK> is a <UNK> <UNK> <UNK> <UNK>\n",
            "\n",
            "validation started ...\n",
            "\n",
            "* Validation loss: 5.526213645935059 \n",
            "\n",
            "* Train Loss 5.6411\n",
            "\n",
            "Saving checkpoint for epoch 5 at /content/drive/My Drive/checkpoints1/ckpt-4\n"
          ]
        },
        {
          "data": {
            "image/png": "[encoded data removed]",
            "text/plain": [
              "<Figure size 432x288 with 1 Axes>"
            ]
          },
          "metadata": {},
          "output_type": "display_data"
        },
        {
          "metadata": {
            "tags": null
          },
          "name": "stdout",
          "output_type": "stream",
          "text": [
            "smallest val loss: (5, 5.5262136)\n",
            "Current Lr:  0.0009219172\n",
            "\n",
            "Time taken for this epoch: 1244.93 secs\n",
            "\n",
            "========================================\n",
            "Epoch 6 Batch 0 Loss 5.7057\n",
            "Epoch 6 Batch 150 Loss 5.5905\n",
            "Epoch 6 Batch 300 Loss 5.5916\n",
            "Epoch 6 Batch 450 Loss 5.5941\n",
            "Epoch 6 Batch 600 Loss 5.5901\n",
            "Epoch 6 Batch 750 Loss 5.5916\n",
            "Epoch 6 Batch 900 Loss 5.5887\n",
            "Epoch 6 Batch 1050 Loss 5.5878\n",
            "Epoch 6 Batch 1200 Loss 5.5860\n",
            "\n",
            "rafael nadal beats rafael nadal in the world no 1 novak djokovic beats novak djokovic in the world no 1 novak djokovic beats novak djokovic in the world no 1 beats novak djokovic in the world no 1 novak djokovic beats tomas berdych in the world no 1 beats novak djokovic in the world no 1 novak\n",
            "<UNK> <UNK> is the first time to be a <UNK> <UNK> <UNK> <UNK> <UNK> <UNK> <UNK> <UNK> <UNK> <UNK> <UNK> <UNK> <UNK> <UNK> <UNK> <UNK> <UNK> <UNK> <UNK> <UNK> <UNK> <UNK> <UNK> <UNK> <UNK> <UNK> <UNK> <UNK> <UNK> <UNK> <UNK> <UNK> <UNK> <UNK> <UNK> <UNK> <UNK> <UNK>\n",
            "rafael nadal beats novak djokovic in the world no 1 novak djokovic beats novak djokovic in the world no 1 novak djokovic beats novak djokovic in the world no 1 novak djokovic beats novak djokovic in the world no 1 beats novak djokovic in the world no 1 novak djokovic beats novak djokovic in the final\n",
            "the <UNK> is a <UNK> <UNK> <UNK> <UNK> <UNK> <UNK> <UNK> is a <UNK> <UNK> <UNK> <UNK> <UNK> <UNK> <UNK> <UNK> is a <UNK> <UNK> <UNK> <UNK> <UNK> <UNK> <UNK> is a <UNK> <UNK> <UNK> <UNK>\n",
            "\n",
            "validation started ...\n",
            "\n",
            "* Validation loss: 5.479711055755615 \n",
            "\n",
            "* Train Loss 5.5860\n"
          ]
        },
        {
          "data": {
            "image/png": "[encoded data removed]",
            "text/plain": [
              "<Figure size 432x288 with 1 Axes>"
            ]
          },
          "metadata": {},
          "output_type": "display_data"
        },
        {
          "metadata": {
            "tags": null
          },
          "name": "stdout",
          "output_type": "stream",
          "text": [
            "smallest val loss: (6, 5.479711)\n",
            "Current Lr:  0.00090704806\n",
            "\n",
            "Time taken for this epoch: 1246.56 secs\n",
            "\n",
            "========================================\n",
            "Epoch 7 Batch 0 Loss 5.2487\n",
            "Epoch 7 Batch 150 Loss 5.5482\n",
            "Epoch 7 Batch 300 Loss 5.5496\n",
            "Epoch 7 Batch 450 Loss 5.5511\n",
            "Epoch 7 Batch 600 Loss 5.5476\n",
            "Epoch 7 Batch 750 Loss 5.5489\n",
            "Epoch 7 Batch 900 Loss 5.5480\n",
            "Epoch 7 Batch 1050 Loss 5.5480\n",
            "Epoch 7 Batch 1200 Loss 5.5474\n",
            "\n",
            "rafael nadal beats rafael nadal in the world no 1 novak djokovic beats rafael nadal in the world no 1 novak djokovic in the world no 1 novak djokovic beats rafael nadal in the world no 1 novak djokovic in the world no 1 novak djokovic beats novak djokovic in the final\n",
            "the <UNK> is the first ever world champion of the world champion the <UNK> <UNK> <UNK> is the first ever in the world the world the world the <UNK> is the first ever the first ever the first ever the first ever the first ever the world champion is the first ever in the world the world\n",
            "rafael nadal beats rafael nadal in the world no 1 novak djokovic beats rafael nadal in the world no 1 novak djokovic in the world no 1 novak djokovic beats novak djokovic in the world no 1 novak djokovic in the world no 1 novak djokovic beats novak djokovic in the world no 1 novak djokovic in\n",
            "the <UNK> is a <UNK> of the <UNK> of the <UNK> <UNK> <UNK> is a <UNK> of the <UNK> <UNK> <UNK> <UNK> is a <UNK> of the <UNK> <UNK> <UNK> <UNK> is a <UNK> for the <UNK>\n",
            "\n",
            "validation started ...\n",
            "\n",
            "* Validation loss: 5.446169376373291 \n",
            "\n",
            "* Train Loss 5.5477\n"
          ]
        },
        {
          "data": {
            "image/png": "[encoded data removed]",
            "text/plain": [
              "<Figure size 432x288 with 1 Axes>"
            ]
          },
          "metadata": {},
          "output_type": "display_data"
        },
        {
          "metadata": {
            "tags": null
          },
          "name": "stdout",
          "output_type": "stream",
          "text": [
            "smallest val loss: (7, 5.4461694)\n",
            "Current Lr:  0.0008924187\n",
            "\n",
            "Time taken for this epoch: 1248.82 secs\n",
            "\n",
            "========================================\n",
            "Epoch 8 Batch 0 Loss 5.3331\n",
            "Epoch 8 Batch 150 Loss 5.5199\n",
            "Epoch 8 Batch 300 Loss 5.5148\n",
            "Epoch 8 Batch 450 Loss 5.5148\n",
            "Epoch 8 Batch 600 Loss 5.5142\n",
            "Epoch 8 Batch 750 Loss 5.5152\n",
            "Epoch 8 Batch 900 Loss 5.5148\n",
            "Epoch 8 Batch 1050 Loss 5.5178\n",
            "Epoch 8 Batch 1200 Loss 5.5182\n",
            "\n",
            "novak djokovic beats andy murray in the world no 1 novak djokovic in the world no 1 novak djokovic beats novak djokovic in the world no 1 novak djokovic in the world no 1 djokovic beats novak djokovic in the world no 1 djokovic in the world no 1 djokovic beats novak djokovic in the quarterfinals\n",
            "<UNK> <UNK> <UNK> <UNK> <UNK> <UNK> <UNK> <UNK> <UNK> <UNK> <UNK> <UNK> <UNK> <UNK> <UNK> <UNK> <UNK> <UNK> <UNK> <UNK> <UNK> <UNK> <UNK> <UNK> <UNK> <UNK> <UNK> <UNK> <UNK> <UNK> <UNK> <UNK> <UNK> <UNK> <UNK> <UNK> <UNK> <UNK> <UNK> <UNK> <UNK> <UNK> <UNK> <UNK>\n",
            "novak djokovic beats andy murray in the world no 1 novak djokovic beats andy murray in the world no 1 novak djokovic in the world no 1 novak djokovic beats andy murray in the world no 1 novak djokovic in the world no 1 djokovic beats novak djokovic in the world no 1 djokovic\n",
            "<UNK> <UNK> <UNK> is a <UNK> <UNK> <UNK> <UNK> <UNK> <UNK> <UNK> <UNK> <UNK> <UNK> is a <UNK> <UNK> <UNK> <UNK> <UNK> <UNK> <UNK> <UNK> <UNK> <UNK> <UNK> <UNK> <UNK> <UNK> <UNK> <UNK> <UNK> <UNK> <UNK> <UNK> <UNK> <UNK> <UNK> <UNK> <UNK> <UNK>\n",
            "\n",
            "validation started ...\n",
            "\n",
            "* Validation loss: 5.426452159881592 \n",
            "\n",
            "* Train Loss 5.5179\n"
          ]
        },
        {
          "data": {
            "image/png": "[encoded data removed]",
            "text/plain": [
              "<Figure size 432x288 with 1 Axes>"
            ]
          },
          "metadata": {},
          "output_type": "display_data"
        },
        {
          "metadata": {
            "tags": null
          },
          "name": "stdout",
          "output_type": "stream",
          "text": [
            "smallest val loss: (8, 5.426452)\n",
            "Current Lr:  0.0008780253\n",
            "\n",
            "Time taken for this epoch: 1246.87 secs\n",
            "\n",
            "========================================\n",
            "Epoch 9 Batch 0 Loss 5.6167\n",
            "Epoch 9 Batch 150 Loss 5.4839\n",
            "Epoch 9 Batch 300 Loss 5.4870\n",
            "Epoch 9 Batch 450 Loss 5.4900\n",
            "Epoch 9 Batch 600 Loss 5.4905\n",
            "Epoch 9 Batch 750 Loss 5.4893\n",
            "Epoch 9 Batch 900 Loss 5.4918\n",
            "Epoch 9 Batch 1050 Loss 5.4919\n",
            "Epoch 9 Batch 1200 Loss 5.4926\n",
            "\n",
            "novak djokovic beats novak djokovic in the atp tour finals in the final of the atp finals djokovic beats novak djokovic in the semifinals of the french open champion champion champion champion champion champion champion champion champion champion champion champion roger federer beats novak djokovic in the semifinals\n",
            "<UNK> <UNK> is the first ever world champion of the french grand prix the queen elizabeth ii <UNK> is the first time to win the race in the world the world the race is a <UNK> <UNK> <UNK> <UNK> <UNK> <UNK> <UNK> <UNK> <UNK> <UNK> <UNK> <UNK> <UNK> <UNK> <UNK> <UNK> <UNK> <UNK> <UNK> <UNK> <UNK> <UNK>\n",
            "novak djokovic beats roger federer in the atp tour finals in the atp finals federer beats novak djokovic in the atp finals in the atp finals in the final of the atp finals federer beats novak djokovic in the final of the atp finals\n",
            "<UNK> <UNK> is a <UNK> of the world oldest <UNK> <UNK> <UNK> <UNK> is a <UNK> <UNK> <UNK> <UNK> <UNK> <UNK> is a <UNK> <UNK> <UNK> <UNK> <UNK> is a <UNK> <UNK> <UNK> <UNK> <UNK> is a <UNK>\n",
            "\n",
            "validation started ...\n",
            "\n",
            "* Validation loss: 5.401552677154541 \n",
            "\n",
            "* Train Loss 5.4931\n",
            "\n",
            "Saving checkpoint for epoch 9 at /content/drive/My Drive/checkpoints1/ckpt-5\n"
          ]
        },
        {
          "data": {
            "image/png": "[encoded data removed]",
            "text/plain": [
              "<Figure size 432x288 with 1 Axes>"
            ]
          },
          "metadata": {},
          "output_type": "display_data"
        },
        {
          "output_type": "stream",
          "name": "stdout",
          "text": [
            "smallest val loss: (9, 5.4015527)\n",
            "Current Lr:  0.00086386414\n",
            "\n",
            "Time taken for this epoch: 1245.66 secs\n",
            "\n",
            "========================================\n",
            "Epoch 10 Batch 0 Loss 5.4949\n",
            "Epoch 10 Batch 150 Loss 5.4656\n",
            "Epoch 10 Batch 300 Loss 5.4717\n",
            "Epoch 10 Batch 450 Loss 5.4724\n",
            "Epoch 10 Batch 600 Loss 5.4686\n",
            "Epoch 10 Batch 750 Loss 5.4677\n",
            "Epoch 10 Batch 900 Loss 5.4691\n",
            "Epoch 10 Batch 1050 Loss 5.4697\n",
            "Epoch 10 Batch 1200 Loss 5.4720\n",
            "\n",
            "novak djokovic beats novak djokovic in the world no 1 novak djokovic beats novak djokovic in the world no 1 novak djokovic beats novak djokovic in the world no 1 novak djokovic in the world no 1 novak djokovic beats novak djokovic in the world no 1 novak djokovic in the world no 1 novak djokovic beats\n",
            "french <UNK> <UNK> <UNK> <UNK> <UNK> <UNK> <UNK> <UNK> <UNK> <UNK> <UNK> <UNK> <UNK> <UNK> <UNK> <UNK> <UNK> <UNK> <UNK> <UNK> <UNK> <UNK> <UNK> <UNK> <UNK> <UNK> <UNK> <UNK> <UNK> <UNK> <UNK> <UNK> <UNK> <UNK> <UNK> <UNK> <UNK> <UNK> <UNK> <UNK> <UNK> <UNK> <UNK> <UNK> <UNK> <UNK> <UNK> <UNK> <UNK> <UNK> <UNK> <UNK> <UNK> <UNK> <UNK> <UNK>\n",
            "roger federer beats roger federer in the world no 1 novak djokovic beats roger federer in the world no 1 novak djokovic in the world no 1 novak djokovic beats roger federer in the world no 1 novak djokovic in the world no 1 novak djokovic beats novak djokovic in the world no 1 novak djokovic in\n",
            "<UNK> <UNK> is a <UNK> <UNK> <UNK> <UNK> <UNK> <UNK> <UNK> <UNK> is a <UNK> <UNK> <UNK> <UNK> <UNK> <UNK> <UNK> <UNK> is a <UNK> <UNK> <UNK> <UNK> <UNK> <UNK> is a <UNK> <UNK>\n",
            "\n",
            "validation started ...\n",
            "\n",
            "* Validation loss: 5.3788886070251465 \n",
            "\n",
            "* Train Loss 5.4733\n"
          ]
        },
        {
          "output_type": "display_data",
          "data": {
            "image/png": "[encoded data removed]",
            "text/plain": [
              "<Figure size 432x288 with 1 Axes>"
            ]
          },
          "metadata": {
            "needs_background": "light"
          }
        },
        {
          "output_type": "stream",
          "name": "stdout",
          "text": [
            "smallest val loss: (10, 5.3788886)\n",
            "Current Lr:  0.0008499313\n",
            "\n",
            "Time taken for this epoch: 1247.66 secs\n",
            "\n",
            "========================================\n",
            "Epoch 11 Batch 0 Loss 5.2237\n",
            "Epoch 11 Batch 150 Loss 5.4506\n",
            "Epoch 11 Batch 300 Loss 5.4512\n",
            "Epoch 11 Batch 450 Loss 5.4516\n",
            "Epoch 11 Batch 600 Loss 5.4522\n",
            "Epoch 11 Batch 750 Loss 5.4551\n",
            "Epoch 11 Batch 900 Loss 5.4542\n",
            "Epoch 11 Batch 1050 Loss 5.4538\n",
            "Epoch 11 Batch 1200 Loss 5.4554\n",
            "\n",
            "rafael nadal beats maria sharapova in the world no 1 novak djokovic in the world no 1 novak djokovic beats the french open in the final of the world no 1 novak djokovic in the last eight time in the world no 1 novak djokovic has won the first time in the world no 1\n",
            "<UNK> <UNK> is a <UNK> <UNK> <UNK> <UNK> <UNK> <UNK> <UNK> <UNK> <UNK> <UNK> <UNK> <UNK> <UNK> <UNK> <UNK> <UNK> <UNK> <UNK> <UNK> <UNK> <UNK> <UNK> <UNK> <UNK> <UNK> <UNK> <UNK> <UNK> <UNK> <UNK> <UNK> <UNK> <UNK> <UNK> <UNK> <UNK> <UNK> <UNK> <UNK> <UNK> <UNK> <UNK> <UNK> <UNK> <UNK> <UNK> <UNK> <UNK> <UNK> <UNK> <UNK> <UNK> <UNK>\n",
            "roger federer beats roger federer in the french open final of the french open final of the french open final in the world no 1 novak djokovic beats andy murray in the final of the french open final of the french open\n",
            "<UNK> <UNK> is a <UNK> <UNK> <UNK> <UNK> <UNK> <UNK> is a <UNK> <UNK> <UNK> <UNK> <UNK> <UNK> <UNK> is a <UNK> <UNK> <UNK> <UNK> <UNK> <UNK> <UNK> is a <UNK> <UNK> <UNK> <UNK> <UNK>\n",
            "\n",
            "validation started ...\n",
            "\n",
            "* Validation loss: 5.35897970199585 \n",
            "\n",
            "* Train Loss 5.4561\n"
          ]
        },
        {
          "output_type": "display_data",
          "data": {
            "image/png": "[encoded data removed]",
            "text/plain": [
              "<Figure size 432x288 with 1 Axes>"
            ]
          },
          "metadata": {
            "needs_background": "light"
          }
        },
        {
          "output_type": "stream",
          "name": "stdout",
          "text": [
            "smallest val loss: (11, 5.3589797)\n",
            "Current Lr:  0.0008362232\n",
            "\n",
            "Time taken for this epoch: 1244.63 secs\n",
            "\n",
            "========================================\n",
            "Epoch 12 Batch 0 Loss 5.5310\n",
            "Epoch 12 Batch 150 Loss 5.4270\n",
            "Epoch 12 Batch 300 Loss 5.4333\n",
            "Epoch 12 Batch 450 Loss 5.4372\n",
            "Epoch 12 Batch 600 Loss 5.4378\n",
            "Epoch 12 Batch 750 Loss 5.4371\n",
            "Epoch 12 Batch 900 Loss 5.4383\n",
            "Epoch 12 Batch 1050 Loss 5.4389\n",
            "Epoch 12 Batch 1200 Loss 5.4397\n",
            "\n",
            "rafael nadal beats rafael nadal in the final of the french open final of the french open final rafael nadal beats rafael nadal in the final of the french open final of the french open final of the french open\n",
            "french grand prix is the first time in the world world cup of the world cup the <UNK> is the first time in the world the world the world history of the world history of the world\n",
            "rafael nadal beats roger federer in paris masters in paris masters in paris masters federer beats roger federer in final of the final of the french open final federer beats roger federer in the final of the final of the french open\n",
            "<UNK> <UNK> <UNK> is a <UNK> of the water <UNK> <UNK> <UNK> <UNK> <UNK> is a <UNK> of the <UNK> <UNK> <UNK> <UNK> <UNK> <UNK> <UNK> <UNK> <UNK> <UNK> <UNK> <UNK> <UNK> <UNK> <UNK> <UNK> <UNK> <UNK> <UNK> <UNK> <UNK> is a <UNK>\n",
            "\n",
            "validation started ...\n",
            "\n",
            "* Validation loss: 5.3423943519592285 \n",
            "\n",
            "* Train Loss 5.4402\n"
          ]
        },
        {
          "output_type": "display_data",
          "data": {
            "image/png": "[encoded data removed]",
            "text/plain": [
              "<Figure size 432x288 with 1 Axes>"
            ]
          },
          "metadata": {
            "needs_background": "light"
          }
        },
        {
          "output_type": "stream",
          "name": "stdout",
          "text": [
            "smallest val loss: (12, 5.3423944)\n",
            "Current Lr:  0.0008227362\n",
            "\n",
            "Time taken for this epoch: 1239.78 secs\n",
            "\n",
            "========================================\n",
            "Epoch 13 Batch 0 Loss 5.3689\n",
            "Epoch 13 Batch 150 Loss 5.4228\n",
            "Epoch 13 Batch 300 Loss 5.4207\n",
            "Epoch 13 Batch 450 Loss 5.4201\n",
            "Epoch 13 Batch 600 Loss 5.4231\n",
            "Epoch 13 Batch 750 Loss 5.4230\n",
            "Epoch 13 Batch 900 Loss 5.4230\n",
            "Epoch 13 Batch 1050 Loss 5.4249\n",
            "Epoch 13 Batch 1200 Loss 5.4257\n",
            "\n",
            "rafael nadal beats novak djokovic in paris masters final in paris masters final djokovic beats novak djokovic in paris masters in paris masters final in paris\n",
            "french <UNK> <UNK> <UNK> wins the world cup in paris <UNK> <UNK> <UNK> <UNK> <UNK> <UNK> <UNK> <UNK> <UNK> <UNK> <UNK> <UNK> <UNK> <UNK> <UNK> <UNK> <UNK> <UNK> <UNK> <UNK> <UNK> <UNK> <UNK> <UNK> <UNK> <UNK>\n",
            "rafael nadal beats roger federer in paris masters final in paris masters final final djokovic beats roger federer in paris masters final in paris masters final final final in paris\n",
            "<UNK> <UNK> is a <UNK> of the <UNK> <UNK> <UNK> <UNK> is a <UNK> of the <UNK> <UNK> <UNK> is a <UNK> of the <UNK> <UNK> <UNK> is a <UNK> of the <UNK>\n",
            "\n",
            "validation started ...\n",
            "\n",
            "* Validation loss: 5.3300862312316895 \n",
            "\n",
            "* Train Loss 5.4265\n"
          ]
        },
        {
          "output_type": "display_data",
          "data": {
            "image/png": "[encoded data removed]",
            "text/plain": [
              "<Figure size 432x288 with 1 Axes>"
            ]
          },
          "metadata": {
            "needs_background": "light"
          }
        },
        {
          "output_type": "stream",
          "name": "stdout",
          "text": [
            "smallest val loss: (13, 5.330086)\n",
            "Current Lr:  0.00080946664\n",
            "\n",
            "Time taken for this epoch: 1232.26 secs\n",
            "\n",
            "========================================\n",
            "Epoch 14 Batch 0 Loss 5.5378\n",
            "Epoch 14 Batch 150 Loss 5.4022\n",
            "Epoch 14 Batch 300 Loss 5.4082\n",
            "Epoch 14 Batch 450 Loss 5.4097\n",
            "Epoch 14 Batch 600 Loss 5.4116\n",
            "Epoch 14 Batch 750 Loss 5.4119\n",
            "Epoch 14 Batch 900 Loss 5.4130\n",
            "Epoch 14 Batch 1050 Loss 5.4117\n",
            "Epoch 14 Batch 1200 Loss 5.4132\n",
            "\n",
            "rafael nadal beats maria sharapova in madrid masters final in madrid masters final in italy maria sharapova beats maria sharapova in italy in italy in italy in italy in italy in italy in italy\n",
            "france is the first time to be the world world cup in the world the world the <UNK> is a <UNK> <UNK> <UNK> <UNK> <UNK> <UNK> <UNK> <UNK> <UNK> <UNK> <UNK> <UNK> <UNK> <UNK> <UNK> <UNK> <UNK> <UNK> <UNK> <UNK> <UNK> <UNK> <UNK> <UNK> <UNK>\n",
            "roger federer beats andy murray in paris masters final federer beats andy murray in paris masters final federer beats andy murray in paris masters final federer beats andy murray in paris masters final\n",
            "<UNK> <UNK> is a <UNK> of the world most expensive than a year old hospital is a <UNK> <UNK> <UNK> <UNK> <UNK> is a <UNK> <UNK> <UNK> <UNK> <UNK> is a <UNK> <UNK> <UNK> <UNK> <UNK> <UNK> is a <UNK> <UNK>\n",
            "\n",
            "validation started ...\n",
            "\n",
            "* Validation loss: 5.311732769012451 \n",
            "\n",
            "* Train Loss 5.4149\n"
          ]
        },
        {
          "output_type": "display_data",
          "data": {
            "image/png": "[encoded data removed]",
            "text/plain": [
              "<Figure size 432x288 with 1 Axes>"
            ]
          },
          "metadata": {
            "needs_background": "light"
          }
        },
        {
          "output_type": "stream",
          "name": "stdout",
          "text": [
            "smallest val loss: (14, 5.311733)\n",
            "Current Lr:  0.0007964111\n",
            "\n",
            "Time taken for this epoch: 1238.04 secs\n",
            "\n",
            "========================================\n",
            "Epoch 15 Batch 0 Loss 5.3383\n",
            "Epoch 15 Batch 150 Loss 5.4082\n",
            "Epoch 15 Batch 300 Loss 5.4014\n",
            "Epoch 15 Batch 450 Loss 5.3981\n",
            "Epoch 15 Batch 600 Loss 5.3998\n",
            "Epoch 15 Batch 750 Loss 5.4023\n",
            "Epoch 15 Batch 900 Loss 5.4037\n",
            "Epoch 15 Batch 1050 Loss 5.4029\n",
            "Epoch 15 Batch 1200 Loss 5.4029\n",
            "\n",
            "rafael nadal beats rafael nadal in madrid in italy in italy in italy in italy in italy in italy in italy in italy in italy in italy in italy in italy in italy in italy in italy in italy in italy in italy\n",
            "french grand prix de france wins the world cup in the world cup the <UNK> <UNK> <UNK> <UNK> <UNK> <UNK> <UNK> <UNK> <UNK> <UNK> <UNK> <UNK> <UNK> <UNK> <UNK> <UNK> <UNK> <UNK> <UNK> <UNK> <UNK> <UNK> <UNK> <UNK> <UNK> <UNK> <UNK> <UNK> <UNK> <UNK>\n",
            "rafael nadal beats andy murray in french open final in french open final djokovic beats andy murray in french open final final djokovic beats andy murray in french open final djokovic beats andy murray in french open final\n",
            "the <UNK> is a <UNK> of the <UNK> <UNK> <UNK> <UNK> <UNK> <UNK> is a <UNK> <UNK> <UNK> <UNK> <UNK> <UNK> is a <UNK> <UNK> <UNK> <UNK> <UNK> is a <UNK> <UNK>\n",
            "\n",
            "validation started ...\n",
            "\n",
            "* Validation loss: 5.311482906341553 \n",
            "\n",
            "* Train Loss 5.4047\n"
          ]
        },
        {
          "output_type": "display_data",
          "data": {
            "image/png": "[encoded data removed]",
            "text/plain": [
              "<Figure size 432x288 with 1 Axes>"
            ]
          },
          "metadata": {
            "needs_background": "light"
          }
        },
        {
          "output_type": "stream",
          "name": "stdout",
          "text": [
            "smallest val loss: (15, 5.311483)\n",
            "Current Lr:  0.0007835662\n",
            "\n",
            "Time taken for this epoch: 1237.97 secs\n",
            "\n",
            "========================================\n",
            "Epoch 16 Batch 0 Loss 5.3595\n",
            "Epoch 16 Batch 150 Loss 5.3747\n",
            "Epoch 16 Batch 300 Loss 5.3837\n",
            "Epoch 16 Batch 450 Loss 5.3877\n",
            "Epoch 16 Batch 600 Loss 5.3916\n",
            "Epoch 16 Batch 750 Loss 5.3883\n",
            "Epoch 16 Batch 900 Loss 5.3894\n",
            "Epoch 16 Batch 1050 Loss 5.3896\n",
            "Epoch 16 Batch 1200 Loss 5.3939\n",
            "\n",
            "rafael nadal wins the french open title in madrid in madrid in madrid in madrid in italy open final of the french open in madrid in madrid in the french open final of the french open in the french open in the french open in the french open\n",
            "the french grand prix is the first time to win the world cup in the world the world the <UNK> <UNK> <UNK> <UNK> <UNK> <UNK> <UNK> <UNK> <UNK> <UNK> <UNK> <UNK> <UNK> <UNK> <UNK> <UNK> <UNK> <UNK> <UNK> <UNK> <UNK> <UNK> <UNK>\n",
            "roger federer wins the french open title in the french open final in the french open final the french open final in the french open final in the french open final the french open final in the french open final in the french open final in the french open\n",
            "the <UNK> is a <UNK> of the <UNK> of the <UNK> <UNK> <UNK> is a <UNK> of the <UNK> <UNK> <UNK> is a <UNK> of the <UNK> <UNK> is a <UNK> of the <UNK> <UNK> <UNK> is a <UNK> <UNK>\n",
            "\n",
            "validation started ...\n",
            "\n",
            "* Validation loss: 5.297592639923096 \n",
            "\n",
            "* Train Loss 5.3954\n",
            "\n",
            "Saving checkpoint for epoch 16 at /content/drive/My Drive/checkpoints1/ckpt-6\n"
          ]
        },
        {
          "output_type": "display_data",
          "data": {
            "image/png": "[encoded data removed]",
            "text/plain": [
              "<Figure size 432x288 with 1 Axes>"
            ]
          },
          "metadata": {
            "needs_background": "light"
          }
        },
        {
          "output_type": "stream",
          "name": "stdout",
          "text": [
            "smallest val loss: (16, 5.2975926)\n",
            "Current Lr:  0.00077092845\n",
            "\n",
            "Time taken for this epoch: 1243.55 secs\n",
            "\n",
            "========================================\n",
            "Epoch 17 Batch 0 Loss 5.2789\n",
            "Epoch 17 Batch 150 Loss 5.3642\n",
            "Epoch 17 Batch 300 Loss 5.3788\n",
            "Epoch 17 Batch 450 Loss 5.3779\n",
            "Epoch 17 Batch 600 Loss 5.3787\n",
            "Epoch 17 Batch 750 Loss 5.3813\n",
            "Epoch 17 Batch 900 Loss 5.3830\n"
          ]
        }
      ]
    },
    {
      "cell_type": "code",
      "metadata": {
        "id": "2A0tm3c9ixZD",
        "colab": {
          "base_uri": "https://localhost:8080/"
        },
        "outputId": "7c638ddd-0f24-423a-9f0a-ee16e608c193"
      },
      "source": [
        "print(\"TEXT:\",longreview_val[i1])\n",
        "print()\n",
        "print(\"Actual:\",summaries_val[i1])\n",
        "print()\n",
        "print(\"predicted:\",summarize(longreview_val[i1]))"
      ],
      "execution_count": null,
      "outputs": [
        {
          "output_type": "stream",
          "name": "stdout",
          "text": [
            "TEXT: traces narcotics hypodermic needles found bodies two american security officers container ship maersk alabama suggested deaths resulted drug overdoses, seychelles government official told cnn. seychelles police identified bodies found tuesday jeffrey reynolds mark kennedy, 44. worked trident group, virginia based maritime security services firm. trident group president tom rothrauff said former navy seals. bizarre. course, shock. great guys, rothrauff said. absolutely clueless happened. police said autopsy would carried early next week. seychelles government official, spoke condition identified, said thursday presence drug traces paraphernalia would suggest deaths result drug overdose. seychelles police statement said despite media accounts traces drugs, authorities released reports suggesting deaths result overdose. statement, however, deny drugs found suggest alternative cause death. 500 foot maersk alabama target attempted hijacking pirate infested waters east africa 2009 incident inspired 2013 film captain phillips. shipping giant maersk, hired trident group guard ships, said thursday trident would conducting random drug tests employees. based experience contractor, isolated incident, maersk said. said new drug tests would start immediately company shore leave policy review. maersk alabama since left seychelles capital port victoria, company said thursday. police said ship arrived sunday seychelles, archipelago indian ocean, 24 man crew expected leave tuesday. bodies found colleague gone check one men cabin 4 30 p.m. tuesday, seychelles police said. lt. cmdr. jamie frederick, u.s. coast guard spokesman, said service investigating deaths, required american law. said deaths appear criminal nature, related vessel operations, material condition ship duties security personnel. april 2009, four armed pirates attempted hijack maersk alabama 380 miles somalia. crew sank pirates' vessel foiled efforts take control container ship, pirates took ship captain, richard phillips, hostage lifeboat. incident ended three days later navy sharpshooters killed three pirates captured fourth. phillips unharmed. pirates attacked ship later year, armed security personnel fought off. march 2011, another attempt pirates board ship thwarted security personnel fired warning shots. 2010 hero skipper ignored pirate warnings, crew says 2009 crewman e mail gives harrowing details hijacking\n",
            "\n",
            "Actual: <startseq> maersk, security contractor launch drug testing plan after deaths. needles, traces of narcotics found with dead contractors, seychelles official says. two american security contractors were former navy seals, executive says. a colleague found the bodies in a ship cabin, police say.  <endseq>\n",
            "\n",
            "predicted: new the captain of the captain of the captain of the captain of the captain of the captain of the captain of the captain of the captain of the captain of the ship the ship was found in the coast of <UNK> the coast of <UNK> the coast of <UNK>\n"
          ]
        }
      ]
    },
    {
      "cell_type": "code",
      "metadata": {
        "id": "fOc0Mqjnum8U",
        "colab": {
          "base_uri": "https://localhost:8080/"
        },
        "outputId": "84e58de6-3b3a-47f5-dd9e-7f7e88b36f20"
      },
      "source": [
        "print(\"TEXT:\",longreview_val[12])\n",
        "print()\n",
        "print(\"Actual:\",summaries_val[12])\n",
        "print()\n",
        "print(\"predicted:\",summarize(longreview_val[12]))"
      ],
      "execution_count": null,
      "outputs": [
        {
          "output_type": "stream",
          "name": "stdout",
          "text": [
            "TEXT: hamilton, bermuda four chinese nationals uyghur ethnicity held u.s. military guantanamo bay, cuba, detention facility resettled bermuda, officials said thursday. attorney general eric holder says u.s. extremely grateful government bermuda. all, humanitarian act, bermudan premier ewart brown told cnn interview cabinet office hamilton, bermuda. see quid pro quo. four twice cleared release bush administration year, according justice department statement. among 17 uyghur detainees facility set hold terror suspects. four flown private plane wednesday night cuba bermuda accompanied u.s. bermudan representatives well attorneys, according susan baker manning, part men legal team. president obama pledged close guantanamo facility, raising questions happen 200 remaining detainees. political backlash bringing detainees united states increased focus sending countries. brown said read article issue guantanamo bay detainees' fates washington post washington white house meeting may. said decided put offer u.s. government table. said bermuda, british colony, told london intentions, late process. britain must approve transfer permanent, brown said, adding believes issue may raise tension bermuda britain. issue controversial china opposition uyghurs sent country china. uyghurs muslim minority xinjiang province far west china. 17 uyghurs left china made way afghanistan, settled camp uyghurs opposed chinese government, justice department said statement. left afghanistan u.s. bombings began area october 2001 apprehended pakistan, statement said. watch concerns resettling uyghur detainees » according available information, individuals travel afghanistan intent take hostile action united states, statement said. manning said 17 picked matter circumstance never terrorist training. left china agree government, told cnn. however, china alleges men part east turkestan islamic movement group u.s. state department considers terrorist organization operates xinjiang region. east turkestan another name xinjiang. china thursday urged united states hand 17 uyghurs instead sending elsewhere. chinese statement followed offer palau, pacific island nation, accept uyghur detainees. xinjiang region 20 million people largely populated ethnic uyghurs muslim minorities traditionally opposed beijing rule clamored greater autonomy. senior u.s. administration official told cnn state department working final agreement palau settle matter 13 remaining uyghur detainees. issues worked include transfer uyghurs palau much money united states would give men resettlement, official said. official said average cases $100,000 per person. united states send uyghur detainees cleared release back china concern would tortured chinese authorities. china said returned uyghurs would tortured. palau said take ethnic uyghur detainees humanitarian reasons special relationship palau united states. palau, population 20,000, 1,000 miles southeast manila philippines 4,600 miles west hawaii. received nearly $900 million u.s. aid since independence 1994, according congressional auditors, depends washington defense. 2006, five uyghur detainees transferred albania, according justice department, said reports took part post resettlement criminal behavior terrorist activities. since 2002, 540 detainees departed guantanamo countries, including albania, algeria, afghanistan, australia, bangladesh, bahrain, belgium, denmark, egypt, france, great britain, iran, iraq, jordan, kazakhstan, kuwait, libya, maldives, mauritania, morocco, pakistan, russia, saudi arabia, spain, sweden, sudan, tajikistan, turkey, uganda, united kingdom yemen, justice department said. cnn brian vitagliano lemon contributed report.\n",
            "\n",
            "Actual: <startseq> new bermudan premier above all, this was a humanitarian act. uyghurs are native chinese muslims the detainees were apprehended in pakistan. china urges u.s. to hand over all 17 uyghurs held at guantanamo bay, cuba. official says u.s. still negotiating with palau to take remaining 13 uyghurs.  <endseq>\n",
            "\n",
            "predicted: u s official says u s embassy is a u s official says u s official says u s embassy is not to be held in the u s u s says u s has been held in the u s u s says u s has been held in the u s\n"
          ]
        }
      ]
    },
    {
      "cell_type": "code",
      "metadata": {
        "colab": {
          "base_uri": "https://localhost:8080/"
        },
        "id": "2VG2338uvj6G",
        "outputId": "ffb03678-dfba-49d0-bd65-6ee0c11dca96"
      },
      "source": [
        "print(\"TEXT:\",longreview_val[30])\n",
        "print()\n",
        "print(\"Actual:\",summaries_val[30])\n",
        "print()\n",
        "print(\"predicted:\",summarize(longreview_val[30]))"
      ],
      "execution_count": null,
      "outputs": [
        {
          "output_type": "stream",
          "name": "stdout",
          "text": [
            "TEXT: big winners formula one season could road drivers rather f1 racers, according one former world champion. jody scheckter, took drivers' title 1979, hopes raft technological changes notably smaller, hybrid engines promise greater fuel efficiency help improve road cars' performance. positive sport, first time seen sport bring regulations really push envelope technology every type car, south african told cnn. trying take efficiency everywhere car. year race cars boast enhanced energy recovery system 1.6 liter v6 engines, compared 2.4 liter v8s show last year. ers uses heat generated braking thermal energy exhaust gases create extra power. kinetic energy recovery system used f1 since 2009, scheckter says latest advancements sport benefit everyday drivers. wherever heat, turn energy, added former ferrari driver. point view, road cars becoming more. they've taken energy brakes different areas, formula one done much higher degree ever seen before. think technology flow road cars quickly. important global environment make technology work practically move road cars. track, scheckter expects unpredictable start championship teams drivers wrestle new regulations. encouraging preseason mercedes fueled talk lewis hamilton favorite weekend australian grand prix pole position take title. hamilton, world champion 2008, set fastest time final day final test event bahrain, quickest lap time preseason set felipe massa williams. brazilian new arrival british team following nine years ferrari scheckter expects massa hamilton start well, stopped short tipping either top pile end season. going follow test results think mercedes williams got advantage beginning, said. long take teams catch up, knows would thought fourth, fifth race, might see things settle down. someone could make modification gain one second, two seconds per lap. massive amount. things settle would want back anybody. climax 2014 season set dramatic one, double points set awarded driver takes checkered flag november abu dhabi grand prix, winner race awarded 50 points, rather usual 25. move scheckter thinks see fight world championship go wire. trying make last race determines championship, said. somebody quite far ahead looks like going win championship ... finish another guy wins. fair not, makes exciting racing. makes throw something tv interactive 10 cars changed formula one\n",
            "\n",
            "Actual: <startseq> the first race of the 2014 formula one season takes place in australia on sunday. turbo engines are back in the sport, with each car boasting a 1.6 liter v6 hybrid. former f1 winner jody scheckter expects f1 technology to trickle down to road cars. for the first time in the sport history, double points will be awarded at the year final race.  <endseq>\n",
            "\n",
            "predicted: mercedes team will be the first f1 in the world championship the formula one is the fastest in the world championship the world championship the red bull is the first ever in the world championship the world championship the world champion will be the fastest in the world\n"
          ]
        }
      ]
    },
    {
      "cell_type": "markdown",
      "metadata": {
        "id": "mKnQVp245LTs"
      },
      "source": [
        "Testing"
      ]
    },
    {
      "cell_type": "code",
      "metadata": {
        "id": "-4pwyAeNwJCE"
      },
      "source": [
        "from sumeval.metrics.rouge import RougeCalculator\n",
        "test_texts=data1['cleaned_document']\n",
        "test_summaries=data1['cleaned_summary']\n",
        "print(len(test_summaries),len(test_texts))\n",
        "r1=[]\n",
        "r2=[]\n",
        "rl=[]\n",
        "rbe=[]\n",
        "for i in range(len(test_texts)):\n",
        "    model_summary=summarize(test_texts[i])\n",
        "    rouge = RougeCalculator(stopwords=True, lang=\"en\")\n",
        "    rouge_1 = rouge.rouge_n(\n",
        "            summary=model_summary,\n",
        "            references=test_summaries[i],\n",
        "            n=1)\n",
        "    rouge_2 = rouge.rouge_n(\n",
        "            summary=model_summary,\n",
        "            references=[test_summaries[i]],\n",
        "            n=2)\n",
        "    rouge_l = rouge.rouge_l(\n",
        "            summary=model_summary,\n",
        "            references=[test_summaries[i]])\n",
        "    rouge_be = rouge.rouge_be(\n",
        "            summary=model_summary,\n",
        "            references=[test_summaries[i]])\n",
        "    r1.append(rouge_1)\n",
        "    r2.append(rouge_2)\n",
        "    rl.append(rouge_l)\n",
        "    rbe.append(rouge_be)\n",
        "    #print(\"ROUGE-1: {}, ROUGE-2: {}, ROUGE-L: {}, ROUGE-BE: {}\".format(rouge_1, rouge_2, rouge_l, rouge_be).replace(\", \", \"\\n\"))\n",
        "print(\"stop\")\n"
      ],
      "execution_count": null,
      "outputs": []
    },
    {
      "cell_type": "code",
      "metadata": {
        "colab": {
          "base_uri": "https://localhost:8080/"
        },
        "id": "YHvN2xgv0QDx",
        "outputId": "7411c844-5d4e-48a7-8054-1bbbbde12913"
      },
      "source": [
        "pip install sumeval"
      ],
      "execution_count": null,
      "outputs": [
        {
          "output_type": "stream",
          "name": "stdout",
          "text": [
            "Collecting sumeval\n",
            "  Downloading sumeval-0.2.2.tar.gz (80 kB)\n",
            "\u001b[K     |████████████████████████████████| 80 kB 3.8 MB/s \n",
            "\u001b[?25hRequirement already satisfied: plac>=0.9.6 in /usr/local/lib/python3.7/dist-packages (from sumeval) (1.1.3)\n",
            "Collecting sacrebleu>=1.3.2\n",
            "  Downloading sacrebleu-2.0.0-py3-none-any.whl (90 kB)\n",
            "\u001b[K     |████████████████████████████████| 90 kB 9.2 MB/s \n",
            "\u001b[?25hCollecting portalocker\n",
            "  Downloading portalocker-2.3.2-py2.py3-none-any.whl (15 kB)\n",
            "Requirement already satisfied: numpy>=1.17 in /usr/local/lib/python3.7/dist-packages (from sacrebleu>=1.3.2->sumeval) (1.19.5)\n",
            "Collecting colorama\n",
            "  Downloading colorama-0.4.4-py2.py3-none-any.whl (16 kB)\n",
            "Requirement already satisfied: regex in /usr/local/lib/python3.7/dist-packages (from sacrebleu>=1.3.2->sumeval) (2019.12.20)\n",
            "Requirement already satisfied: tabulate>=0.8.9 in /usr/local/lib/python3.7/dist-packages (from sacrebleu>=1.3.2->sumeval) (0.8.9)\n",
            "Building wheels for collected packages: sumeval\n",
            "  Building wheel for sumeval (setup.py) ... \u001b[?25l\u001b[?25hdone\n",
            "  Created wheel for sumeval: filename=sumeval-0.2.2-py3-none-any.whl size=54549 sha256=05da7ccaded8f7f2c43cadf26059f34469de1f3a6f40d2e166d4cbfd33c3f44a\n",
            "  Stored in directory: /root/.cache/pip/wheels/f4/3f/31/c521bdfba2be7518bd94ba3e8b982812822167cc0497fad192\n",
            "Successfully built sumeval\n",
            "Installing collected packages: portalocker, colorama, sacrebleu, sumeval\n",
            "Successfully installed colorama-0.4.4 portalocker-2.3.2 sacrebleu-2.0.0 sumeval-0.2.2\n"
          ]
        }
      ]
    },
    {
      "cell_type": "code",
      "metadata": {
        "colab": {
          "base_uri": "https://localhost:8080/"
        },
        "id": "THpAzU-g0Uv4",
        "outputId": "998e7409-61ed-4050-bdc2-b3ea84750ce7"
      },
      "source": [
        "rouge_1=sum(r1)/len(r1)\n",
        "rouge_2=sum(r2)/len(r2)\n",
        "rouge_l=sum(rl)/len(rl)\n",
        "rouge_be=sum(rbe)/len(rbe)\n",
        "print(\"ROUGE-1: {}, ROUGE-2: {}, ROUGE-L: {}, ROUGE-BE: {}\".format(rouge_1, rouge_2, rouge_l, rouge_be).replace(\", \", \"\\n\"))"
      ],
      "execution_count": null,
      "outputs": [
        {
          "output_type": "stream",
          "name": "stdout",
          "text": [
            "ROUGE-1: 0.06318816533191597\n",
            "ROUGE-2: 0.007669062383992912\n",
            "ROUGE-L: 0.05824863315770361\n",
            "ROUGE-BE: 0.007601398693860037\n"
          ]
        }
      ]
    },
    {
      "cell_type": "code",
      "metadata": {
        "colab": {
          "base_uri": "https://localhost:8080/"
        },
        "id": "AGBo4qaQZzmA",
        "outputId": "e80bdee3-137f-4818-f12f-d11894b9fd80"
      },
      "source": [
        "#Recall-Oriented Understudy for Gisting Evaluation"
      ],
      "execution_count": null,
      "outputs": [
        {
          "output_type": "stream",
          "name": "stdout",
          "text": [
            "1089\n"
          ]
        }
      ]
    },
    {
      "cell_type": "code",
      "metadata": {
        "id": "wgyCH38QZ4t5"
      },
      "source": [
        ""
      ],
      "execution_count": null,
      "outputs": []
    }
  ]
}