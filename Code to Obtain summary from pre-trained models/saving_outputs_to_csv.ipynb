{
 "cells": [
  {
   "cell_type": "code",
   "execution_count": null,
   "metadata": {},
   "outputs": [],
   "source": [
    "import os, glob\n",
    "import pandas as pd\n",
    "from os import listdir\n",
    "from os.path import isfile, join"
   ]
  },
  {
   "cell_type": "code",
   "execution_count": null,
   "metadata": {},
   "outputs": [],
   "source": [
    "mypath=\"C:\\\\Users\\\\Admin\\\\clstk\\\\dataset\\\\out\\\\\"\n",
    "onlyfiles = [f for f in listdir(mypath) if isfile(join(mypath, f))]\n",
    "of=[]\n",
    "for i in onlyfiles:\n",
    "    i=int(i)\n",
    "    of.append(i)\n",
    "of=sorted(of)\n",
    "\n",
    "of=[str(i) for i in of]\n",
    "df = pd.DataFrame(columns=['crsummary'])\n",
    "i=0\n",
    "pat=\"C:\\\\Users\\\\Admin\\\\clstk\\\\dataset\\\\out\\\\\"\n",
    "for file in of:\n",
    "    file=pat+file\n",
    "    with open(file,'r') as f:\n",
    "        df.loc[i]=f.read()\n",
    "        i+=1\n"
   ]
  },
  {
   "cell_type": "code",
   "execution_count": null,
   "metadata": {},
   "outputs": [],
   "source": [
    "files_folder = \"C:\\\\Users\\\\Admin\\\\clstk\\\\dataset\\\\out\\\\\"\n",
    "\n",
    "#files = []\n",
    "files=glob.glob(os.path.join(files_folder ,\"*\"))\n",
    "\n",
    "df = pd.DataFrame(columns=['lbsummary'])\n",
    "i=0\n",
    "for file in files:\n",
    "    with open(file,'r') as f:\n",
    "        df.loc[i]=f.read()\n",
    "        i+=1\n",
    "df.to_csv('C:/Users/Admin/Desktop/coRank.csv')"
   ]
  }
 ],
 "metadata": {
  "kernelspec": {
   "display_name": "Python 3",
   "language": "python",
   "name": "python3"
  },
  "language_info": {
   "codemirror_mode": {
    "name": "ipython",
    "version": 3
   },
   "file_extension": ".py",
   "mimetype": "text/x-python",
   "name": "python",
   "nbconvert_exporter": "python",
   "pygments_lexer": "ipython3",
   "version": "3.8.3"
  }
 },
 "nbformat": 4,
 "nbformat_minor": 4
}
