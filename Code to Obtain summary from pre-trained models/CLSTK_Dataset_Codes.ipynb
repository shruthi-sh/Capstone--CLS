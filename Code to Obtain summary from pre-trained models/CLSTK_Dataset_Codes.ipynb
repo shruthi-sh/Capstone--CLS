{
 "cells": [
  {
   "cell_type": "code",
   "execution_count": 19,
   "metadata": {},
   "outputs": [],
   "source": [
    "import os\n",
    "import csv\n",
    "with open('C:/Users/Admin/Downloads/test_final.csv',encoding=\"utf8\") as csvfile:\n",
    "    reader = csv.DictReader(csvfile)\n",
    "    i=0\n",
    "    \n",
    "    for row in reader:\n",
    "        \n",
    "        file_name ='{0}.txt'.format(str(i)) \n",
    "        \n",
    "        directory = str(i)+'/'\n",
    "        parent_dir1 = 'C:/Users/Admin/clstk/dataset/document/'\n",
    "        parent_dir2='C:/Users/Admin/clstk/dataset/summary/'\n",
    "        path1 = os.path.join(parent_dir1, directory)\n",
    "        os.mkdir(path1)\n",
    "        path2 = os.path.join(parent_dir2, directory)\n",
    "        os.mkdir(path2)\n",
    "            \n",
    "\n",
    "        file1=path1+file_name\n",
    "        file2=path2+file_name\n",
    "        \n",
    "\n",
    "        with open(file1, 'w',encoding=\"utf8\") as f:\n",
    "            f.write(row['Document'])\n",
    "        with open(file2, 'w',encoding=\"utf8\") as f1:\n",
    "            f1.write(row['Summary'])\n",
    "        i+=1"
   ]
  }
 ],
 "metadata": {
  "kernelspec": {
   "display_name": "Python 3",
   "language": "python",
   "name": "python3"
  },
  "language_info": {
   "codemirror_mode": {
    "name": "ipython",
    "version": 3
   },
   "file_extension": ".py",
   "mimetype": "text/x-python",
   "name": "python",
   "nbconvert_exporter": "python",
   "pygments_lexer": "ipython3",
   "version": "3.8.3"
  }
 },
 "nbformat": 4,
 "nbformat_minor": 4
}
