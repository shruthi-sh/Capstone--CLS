{
  "nbformat": 4,
  "nbformat_minor": 0,
  "metadata": {
    "colab": {
      "name": "BART summary.ipynb",
      "provenance": [],
      "collapsed_sections": []
    },
    "kernelspec": {
      "name": "python3",
      "display_name": "Python 3"
    },
    "language_info": {
      "name": "python"
    }
  },
  "cells": [
    {
      "cell_type": "markdown",
      "metadata": {
        "id": "EcEwhLcfnZHi"
      },
      "source": [
        "\n",
        "Obtaining the summeries using Pegasus model and storing it to csv file"
      ]
    },
    {
      "cell_type": "code",
      "metadata": {
        "colab": {
          "base_uri": "https://localhost:8080/"
        },
        "id": "nCN5J4dVnXL8",
        "outputId": "d30141f5-90ff-4c2b-c0a7-824a9edd82be"
      },
      "source": [
        "!pip install transformers\n",
        "!pip install sentencepiece"
      ],
      "execution_count": null,
      "outputs": [
        {
          "output_type": "stream",
          "name": "stdout",
          "text": [
            "Requirement already satisfied: transformers in /usr/local/lib/python3.7/dist-packages (4.11.3)\n",
            "Requirement already satisfied: numpy>=1.17 in /usr/local/lib/python3.7/dist-packages (from transformers) (1.19.5)\n",
            "Requirement already satisfied: pyyaml>=5.1 in /usr/local/lib/python3.7/dist-packages (from transformers) (5.4.1)\n",
            "Requirement already satisfied: regex!=2019.12.17 in /usr/local/lib/python3.7/dist-packages (from transformers) (2019.12.20)\n",
            "Requirement already satisfied: requests in /usr/local/lib/python3.7/dist-packages (from transformers) (2.23.0)\n",
            "Requirement already satisfied: tqdm>=4.27 in /usr/local/lib/python3.7/dist-packages (from transformers) (4.62.3)\n",
            "Requirement already satisfied: importlib-metadata in /usr/local/lib/python3.7/dist-packages (from transformers) (4.8.1)\n",
            "Requirement already satisfied: packaging>=20.0 in /usr/local/lib/python3.7/dist-packages (from transformers) (21.0)\n",
            "Requirement already satisfied: filelock in /usr/local/lib/python3.7/dist-packages (from transformers) (3.3.0)\n",
            "Requirement already satisfied: tokenizers<0.11,>=0.10.1 in /usr/local/lib/python3.7/dist-packages (from transformers) (0.10.3)\n",
            "Requirement already satisfied: huggingface-hub>=0.0.17 in /usr/local/lib/python3.7/dist-packages (from transformers) (0.0.19)\n",
            "Requirement already satisfied: sacremoses in /usr/local/lib/python3.7/dist-packages (from transformers) (0.0.46)\n",
            "Requirement already satisfied: typing-extensions in /usr/local/lib/python3.7/dist-packages (from huggingface-hub>=0.0.17->transformers) (3.7.4.3)\n",
            "Requirement already satisfied: pyparsing>=2.0.2 in /usr/local/lib/python3.7/dist-packages (from packaging>=20.0->transformers) (2.4.7)\n",
            "Requirement already satisfied: zipp>=0.5 in /usr/local/lib/python3.7/dist-packages (from importlib-metadata->transformers) (3.6.0)\n",
            "Requirement already satisfied: chardet<4,>=3.0.2 in /usr/local/lib/python3.7/dist-packages (from requests->transformers) (3.0.4)\n",
            "Requirement already satisfied: certifi>=2017.4.17 in /usr/local/lib/python3.7/dist-packages (from requests->transformers) (2021.5.30)\n",
            "Requirement already satisfied: urllib3!=1.25.0,!=1.25.1,<1.26,>=1.21.1 in /usr/local/lib/python3.7/dist-packages (from requests->transformers) (1.24.3)\n",
            "Requirement already satisfied: idna<3,>=2.5 in /usr/local/lib/python3.7/dist-packages (from requests->transformers) (2.10)\n",
            "Requirement already satisfied: click in /usr/local/lib/python3.7/dist-packages (from sacremoses->transformers) (7.1.2)\n",
            "Requirement already satisfied: joblib in /usr/local/lib/python3.7/dist-packages (from sacremoses->transformers) (1.0.1)\n",
            "Requirement already satisfied: six in /usr/local/lib/python3.7/dist-packages (from sacremoses->transformers) (1.15.0)\n",
            "Requirement already satisfied: sentencepiece in /usr/local/lib/python3.7/dist-packages (0.1.96)\n"
          ]
        }
      ]
    },
    {
      "cell_type": "code",
      "metadata": {
        "id": "Q4rF_UdSnM4B"
      },
      "source": [
        "# Importing the model\n",
        "from transformers import BartForConditionalGeneration, BartTokenizer, BartConfig\n",
        "import pandas as pd"
      ],
      "execution_count": null,
      "outputs": []
    },
    {
      "cell_type": "code",
      "metadata": {
        "id": "w4F-WNZInjwi"
      },
      "source": [
        "tokenizer = BartTokenizer.from_pretrained('facebook/bart-large-cnn')\n",
        "model = BartForConditionalGeneration.from_pretrained('facebook/bart-large-cnn')"
      ],
      "execution_count": null,
      "outputs": []
    },
    {
      "cell_type": "code",
      "metadata": {
        "colab": {
          "base_uri": "https://localhost:8080/"
        },
        "id": "_uTiSLS0ozBl",
        "outputId": "3d5e048e-8110-4ecc-d9dc-034e5985a1ad"
      },
      "source": [
        "from google.colab import drive\n",
        "drive.mount('/content/drive')"
      ],
      "execution_count": null,
      "outputs": [
        {
          "output_type": "stream",
          "name": "stdout",
          "text": [
            "Drive already mounted at /content/drive; to attempt to forcibly remount, call drive.mount(\"/content/drive\", force_remount=True).\n"
          ]
        }
      ]
    },
    {
      "cell_type": "code",
      "metadata": {
        "colab": {
          "base_uri": "https://localhost:8080/"
        },
        "id": "w7SSP9ZTozQV",
        "outputId": "3a8b06e2-897c-413b-f762-1105f6c80dda"
      },
      "source": [
        "data=pd.read_csv('/content/drive/My Drive/test_final.csv')\n",
        "len(data)"
      ],
      "execution_count": null,
      "outputs": [
        {
          "output_type": "execute_result",
          "data": {
            "text/plain": [
              "1089"
            ]
          },
          "metadata": {},
          "execution_count": 89
        }
      ]
    },
    {
      "cell_type": "code",
      "metadata": {
        "colab": {
          "base_uri": "https://localhost:8080/",
          "height": 204
        },
        "id": "tec8_Psl7iWf",
        "outputId": "ffb2e39b-815c-437b-dc60-0ab425e80dfe"
      },
      "source": [
        "data.head()\n"
      ],
      "execution_count": null,
      "outputs": [
        {
          "output_type": "execute_result",
          "data": {
            "text/html": [
              "<div>\n",
              "<style scoped>\n",
              "    .dataframe tbody tr th:only-of-type {\n",
              "        vertical-align: middle;\n",
              "    }\n",
              "\n",
              "    .dataframe tbody tr th {\n",
              "        vertical-align: top;\n",
              "    }\n",
              "\n",
              "    .dataframe thead th {\n",
              "        text-align: right;\n",
              "    }\n",
              "</style>\n",
              "<table border=\"1\" class=\"dataframe\">\n",
              "  <thead>\n",
              "    <tr style=\"text-align: right;\">\n",
              "      <th></th>\n",
              "      <th>Unnamed: 0</th>\n",
              "      <th>Document</th>\n",
              "      <th>Summary</th>\n",
              "      <th>Kannada_summary</th>\n",
              "    </tr>\n",
              "  </thead>\n",
              "  <tbody>\n",
              "    <tr>\n",
              "      <th>0</th>\n",
              "      <td>0</td>\n",
              "      <td>(CNN)James Best, best known for his portrayal ...</td>\n",
              "      <td>James Best, who played the sheriff on \"The Duk...</td>\n",
              "      <td>\"ದಿ ಡ್ಯೂಕ್ಸ್ ಆಫ್ ಹಜಾರ್ಡ್\" ನಲ್ಲಿ ಶೆರಿಫ್ ಪಾತ್ರವನ...</td>\n",
              "    </tr>\n",
              "    <tr>\n",
              "      <th>1</th>\n",
              "      <td>1</td>\n",
              "      <td>(CNN)The attorney for a suburban New York card...</td>\n",
              "      <td>A lawyer for Dr. Anthony Moschetto says the ch...</td>\n",
              "      <td>ಡಾ. ಆಂಥೋನಿ ಮೊಸ್ಚೆಟ್ಟೊ ಅವರ ವಕೀಲರು ಅವರ ವಿರುದ್ಧದ ...</td>\n",
              "    </tr>\n",
              "    <tr>\n",
              "      <th>2</th>\n",
              "      <td>2</td>\n",
              "      <td>(CNN)President Barack Obama took part in a rou...</td>\n",
              "      <td>\"No challenge poses more of a public threat th...</td>\n",
              "      <td>\"ಹವಾಮಾನ ಬದಲಾವಣೆಗಿಂತ ಯಾವುದೇ ಸವಾಲು ಸಾರ್ವಜನಿಕ ಬೆದ...</td>\n",
              "    </tr>\n",
              "    <tr>\n",
              "      <th>3</th>\n",
              "      <td>3</td>\n",
              "      <td>Moscow (CNN)A Russian TV channel aired Hillary...</td>\n",
              "      <td>Presidential hopeful's video, featuring gay co...</td>\n",
              "      <td>ಸಲಿಂಗಕಾಮಿ ದಂಪತಿಗಳನ್ನು ಒಳಗೊಂಡ ಅಧ್ಯಕ್ಷೀಯ ಭರವಸೆಯ ...</td>\n",
              "    </tr>\n",
              "    <tr>\n",
              "      <th>4</th>\n",
              "      <td>4</td>\n",
              "      <td>(CNN)Marco Rubio is all in.  The Republican se...</td>\n",
              "      <td>Raul Reyes: In seeking Latino vote, Marco Rubi...</td>\n",
              "      <td>ರೌಲ್ ರೆಯೆಸ್: ಲ್ಯಾಟಿನೋ ಮತವನ್ನು ಹುಡುಕುವಲ್ಲಿ, ಮಾರ...</td>\n",
              "    </tr>\n",
              "  </tbody>\n",
              "</table>\n",
              "</div>"
            ],
            "text/plain": [
              "   Unnamed: 0  ...                                    Kannada_summary\n",
              "0           0  ...  \"ದಿ ಡ್ಯೂಕ್ಸ್ ಆಫ್ ಹಜಾರ್ಡ್\" ನಲ್ಲಿ ಶೆರಿಫ್ ಪಾತ್ರವನ...\n",
              "1           1  ...  ಡಾ. ಆಂಥೋನಿ ಮೊಸ್ಚೆಟ್ಟೊ ಅವರ ವಕೀಲರು ಅವರ ವಿರುದ್ಧದ ...\n",
              "2           2  ...  \"ಹವಾಮಾನ ಬದಲಾವಣೆಗಿಂತ ಯಾವುದೇ ಸವಾಲು ಸಾರ್ವಜನಿಕ ಬೆದ...\n",
              "3           3  ...  ಸಲಿಂಗಕಾಮಿ ದಂಪತಿಗಳನ್ನು ಒಳಗೊಂಡ ಅಧ್ಯಕ್ಷೀಯ ಭರವಸೆಯ ...\n",
              "4           4  ...  ರೌಲ್ ರೆಯೆಸ್: ಲ್ಯಾಟಿನೋ ಮತವನ್ನು ಹುಡುಕುವಲ್ಲಿ, ಮಾರ...\n",
              "\n",
              "[5 rows x 4 columns]"
            ]
          },
          "metadata": {},
          "execution_count": 90
        }
      ]
    },
    {
      "cell_type": "code",
      "metadata": {
        "id": "EfQKh6Ng8iO7"
      },
      "source": [
        "data=data.drop(range(50,1089))"
      ],
      "execution_count": null,
      "outputs": []
    },
    {
      "cell_type": "code",
      "metadata": {
        "colab": {
          "base_uri": "https://localhost:8080/"
        },
        "id": "VA2rPFS18qBq",
        "outputId": "d76d9cdb-6a41-4349-b78f-4eaadbd60c83"
      },
      "source": [
        "len(data)"
      ],
      "execution_count": null,
      "outputs": [
        {
          "output_type": "execute_result",
          "data": {
            "text/plain": [
              "50"
            ]
          },
          "metadata": {},
          "execution_count": 92
        }
      ]
    },
    {
      "cell_type": "code",
      "metadata": {
        "id": "fMnixC3gnq4X"
      },
      "source": [
        "\n",
        "\n",
        "def bart_summ(n):\n",
        "\n",
        "  #original_text = data['Document'].values[n]\n",
        "  #original_summary = data['Summary'].values[n]\n",
        "  original_text = n\n",
        "  inputs = tokenizer.batch_encode_plus([original_text], return_tensors='pt',max_length=1024)\n",
        "  summary_ids = model.generate(inputs['input_ids'], early_stopping = True)\n",
        "  bart_summary = tokenizer.decode(summary_ids[0], skip_special_tokens=True)\n",
        "  \n",
        "  return bart_summary\n",
        "\n",
        "\n"
      ],
      "execution_count": null,
      "outputs": []
    },
    {
      "cell_type": "code",
      "metadata": {
        "id": "DqKJJOpMzlvM",
        "colab": {
          "base_uri": "https://localhost:8080/"
        },
        "outputId": "f929904b-e854-4a96-b935-1ba4a8475915"
      },
      "source": [
        "#data.iloc[:,0]=data['Document'].apply(func=bart_summ)\n",
        "import re\n",
        "bsummaries=[]\n",
        "for text in data['Document']:\n",
        "  \n",
        "  bsummaries.append(bart_summ(text))\n",
        "  \n"
      ],
      "execution_count": null,
      "outputs": [
        {
          "output_type": "stream",
          "name": "stderr",
          "text": [
            "Truncation was not explicitly activated but `max_length` is provided a specific value, please use `truncation=True` to explicitly truncate examples to max length. Defaulting to 'longest_first' truncation strategy. If you encode pairs of sequences (GLUE-style) with the tokenizer you can select this strategy more precisely by providing a specific strategy to `truncation`.\n"
          ]
        }
      ]
    },
    {
      "cell_type": "code",
      "metadata": {
        "id": "Gid7wDAWAWoq"
      },
      "source": [
        "data['BSummary']=bsummaries"
      ],
      "execution_count": null,
      "outputs": []
    },
    {
      "cell_type": "code",
      "metadata": {
        "id": "FZ3ZgFMot_L2"
      },
      "source": [
        "data.to_csv('/content/drive/My Drive/Btest_final.csv')"
      ],
      "execution_count": null,
      "outputs": []
    },
    {
      "cell_type": "code",
      "metadata": {
        "colab": {
          "base_uri": "https://localhost:8080/",
          "height": 306
        },
        "id": "YMCeiAyGz7iq",
        "outputId": "18e1c3d9-46fe-41c3-e384-90f92beebacd"
      },
      "source": [
        "data.head()"
      ],
      "execution_count": null,
      "outputs": [
        {
          "output_type": "execute_result",
          "data": {
            "text/html": [
              "<div>\n",
              "<style scoped>\n",
              "    .dataframe tbody tr th:only-of-type {\n",
              "        vertical-align: middle;\n",
              "    }\n",
              "\n",
              "    .dataframe tbody tr th {\n",
              "        vertical-align: top;\n",
              "    }\n",
              "\n",
              "    .dataframe thead th {\n",
              "        text-align: right;\n",
              "    }\n",
              "</style>\n",
              "<table border=\"1\" class=\"dataframe\">\n",
              "  <thead>\n",
              "    <tr style=\"text-align: right;\">\n",
              "      <th></th>\n",
              "      <th>Unnamed: 0</th>\n",
              "      <th>Document</th>\n",
              "      <th>Summary</th>\n",
              "      <th>Kannada_summary</th>\n",
              "      <th>BSummary</th>\n",
              "    </tr>\n",
              "  </thead>\n",
              "  <tbody>\n",
              "    <tr>\n",
              "      <th>0</th>\n",
              "      <td>0</td>\n",
              "      <td>(CNN)James Best, best known for his portrayal ...</td>\n",
              "      <td>James Best, who played the sheriff on \"The Duk...</td>\n",
              "      <td>\"ದಿ ಡ್ಯೂಕ್ಸ್ ಆಫ್ ಹಜಾರ್ಡ್\" ನಲ್ಲಿ ಶೆರಿಫ್ ಪಾತ್ರವನ...</td>\n",
              "      <td>James Best played bumbling sheriff Rosco P. Co...</td>\n",
              "    </tr>\n",
              "    <tr>\n",
              "      <th>1</th>\n",
              "      <td>1</td>\n",
              "      <td>(CNN)The attorney for a suburban New York card...</td>\n",
              "      <td>A lawyer for Dr. Anthony Moschetto says the ch...</td>\n",
              "      <td>ಡಾ. ಆಂಥೋನಿ ಮೊಸ್ಚೆಟ್ಟೊ ಅವರ ವಕೀಲರು ಅವರ ವಿರುದ್ಧದ ...</td>\n",
              "      <td>Dr. Anthony Moschetto faces criminal solicitat...</td>\n",
              "    </tr>\n",
              "    <tr>\n",
              "      <th>2</th>\n",
              "      <td>2</td>\n",
              "      <td>(CNN)President Barack Obama took part in a rou...</td>\n",
              "      <td>\"No challenge poses more of a public threat th...</td>\n",
              "      <td>\"ಹವಾಮಾನ ಬದಲಾವಣೆಗಿಂತ ಯಾವುದೇ ಸವಾಲು ಸಾರ್ವಜನಿಕ ಬೆದ...</td>\n",
              "      <td>President Barack Obama spoke at a roundtable d...</td>\n",
              "    </tr>\n",
              "    <tr>\n",
              "      <th>3</th>\n",
              "      <td>3</td>\n",
              "      <td>Moscow (CNN)A Russian TV channel aired Hillary...</td>\n",
              "      <td>Presidential hopeful's video, featuring gay co...</td>\n",
              "      <td>ಸಲಿಂಗಕಾಮಿ ದಂಪತಿಗಳನ್ನು ಒಳಗೊಂಡ ಅಧ್ಯಕ್ಷೀಯ ಭರವಸೆಯ ...</td>\n",
              "      <td>A Russian TV channel aired Hillary Clinton's f...</td>\n",
              "    </tr>\n",
              "    <tr>\n",
              "      <th>4</th>\n",
              "      <td>4</td>\n",
              "      <td>(CNN)Marco Rubio is all in.  The Republican se...</td>\n",
              "      <td>Raul Reyes: In seeking Latino vote, Marco Rubi...</td>\n",
              "      <td>ರೌಲ್ ರೆಯೆಸ್: ಲ್ಯಾಟಿನೋ ಮತವನ್ನು ಹುಡುಕುವಲ್ಲಿ, ಮಾರ...</td>\n",
              "      <td>Ruben Navarrette: Marco Rubio has been his own...</td>\n",
              "    </tr>\n",
              "  </tbody>\n",
              "</table>\n",
              "</div>"
            ],
            "text/plain": [
              "   Unnamed: 0  ...                                           BSummary\n",
              "0           0  ...  James Best played bumbling sheriff Rosco P. Co...\n",
              "1           1  ...  Dr. Anthony Moschetto faces criminal solicitat...\n",
              "2           2  ...  President Barack Obama spoke at a roundtable d...\n",
              "3           3  ...  A Russian TV channel aired Hillary Clinton's f...\n",
              "4           4  ...  Ruben Navarrette: Marco Rubio has been his own...\n",
              "\n",
              "[5 rows x 5 columns]"
            ]
          },
          "metadata": {},
          "execution_count": 96
        }
      ]
    },
    {
      "cell_type": "code",
      "metadata": {
        "id": "eFsJQuOWn0-C"
      },
      "source": [
        ""
      ],
      "execution_count": null,
      "outputs": []
    }
  ]
}